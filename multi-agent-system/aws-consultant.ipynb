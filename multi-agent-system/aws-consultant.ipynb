{
 "cells": [
  {
   "cell_type": "code",
   "execution_count": 245,
   "metadata": {},
   "outputs": [],
   "source": [
    "import sys\n",
    "import os\n",
    "from crewai import Process, Crew, Agent, Task\n",
    "from crewai_tools import BaseTool, SerperDevTool\n",
    "import requests\n",
    "from dotenv import load_dotenv\n",
    "from langchain_openai import ChatOpenAI"
   ]
  },
  {
   "cell_type": "code",
   "execution_count": 246,
   "metadata": {},
   "outputs": [],
   "source": [
    "load_dotenv()\n",
    "search_tool = SerperDevTool()"
   ]
  },
  {
   "cell_type": "markdown",
   "metadata": {},
   "source": [
    "1. Knowledge Retrieval Agent"
   ]
  },
  {
   "cell_type": "code",
   "execution_count": 247,
   "metadata": {},
   "outputs": [],
   "source": [
    "knowledge_agent = Agent(\n",
    "    role=\"AWS Documentation Specialist\",\n",
    "    goal=\"Retrieve and synthesize comprehensive AWS documentation tailored specifically to the {use_case}\",\n",
    "    backstory=(\n",
    "        \"You are an AWS certified Solutions Architect with 10+ years of experience specializing in AWS documentation. \"\n",
    "        \"You're tasked with gathering detailed information for a {cost_profile} solution with {scalability} scalability needs \"\n",
    "        \"and {security_tier} security requirements that must achieve {performance} performance while maintaining {availability}. \"\n",
    "        \"The solution must address the specific challenges of implementing a {use_case}. \"\n",
    "        \"You understand that this {implementation_time} timeline project requires {ease_of_implementation} implementation with \"\n",
    "        \"{required_expertise} AWS expertise level. The solution must comply with {compliance} requirements. \"\n",
    "        \"Your job is to find and extract the most relevant AWS documentation, white papers, implementation guides, and \"\n",
    "        \"reference architectures that specifically address these exact requirements for this use case.\"\n",
    "    ),\n",
    "    allow_delegation=False,\n",
    "    verbose=True,\n",
    ")"
   ]
  },
  {
   "cell_type": "markdown",
   "metadata": {},
   "source": [
    "2. Industry Solutions Expert Agent "
   ]
  },
  {
   "cell_type": "code",
   "execution_count": 248,
   "metadata": {},
   "outputs": [],
   "source": [
    "industry_solutions_agent = Agent(\n",
    "    role=\"Industry Solutions Expert\",\n",
    "    goal=\"Identify industry-specific AWS patterns and real-world case studies that align with implementing {use_case}\",\n",
    "    backstory=(\n",
    "        \"You are an AWS Technical Account Manager specializing in {use_case} implementations. \"\n",
    "        \"You have extensive experience with projects that require {cost_profile} optimization, \"\n",
    "        \"{scalability} scaling capabilities, and {security_tier} security controls. \"\n",
    "        \"Your expertise is particularly valuable for implementations needing {availability} across regions \"\n",
    "        \"while meeting {performance} requirements. You focus exclusively on how real companies have implemented \"\n",
    "        \"similar solutions that had to comply with {compliance} regulations. You understand the practical challenges \"\n",
    "        \"of achieving {ease_of_implementation} implementation with {integration_complexity} integration complexity \"\n",
    "        \"given {required_expertise} expertise level, especially when working within a {implementation_time} timeframe. \"\n",
    "        \"Your value comes from finding concrete examples that match these exact parameters rather than generic solutions.\"\n",
    "    ),\n",
    "    allow_delegation=True,\n",
    "    verbose=True,\n",
    ")"
   ]
  },
  {
   "cell_type": "markdown",
   "metadata": {},
   "source": [
    "3. Implementation Details Agent "
   ]
  },
  {
   "cell_type": "code",
   "execution_count": 249,
   "metadata": {},
   "outputs": [],
   "source": [
    "implementation_details_agent = Agent(\n",
    "    role=\"Implementation Architect\",\n",
    "    goal=\"Create detailed implementation specifications and code examples for a {use_case} with {cost_profile} cost profile\",\n",
    "    backstory=(\n",
    "        \"You are a hands-on AWS implementation specialist who excels at developing {security_tier} secure solutions \"\n",
    "        \"that deliver {performance} performance with {availability} reliability. Your specialty is converting high-level \"\n",
    "        \"architectures into executable code, especially for {use_case} implementations. \"\n",
    "        \"You understand that the client needs {ease_of_implementation} implementation complexity with {integration_complexity} \"\n",
    "        \"integration requirements, given their {required_expertise} AWS expertise level. \"\n",
    "        \"Your implementations must scale to {scalability} levels and be deployable within a {implementation_time} timeline. \"\n",
    "        \"Every solution you create includes detailed IAM policies, networking configurations, and service settings \"\n",
    "        \"tailored to meet {compliance} requirements. You search for and adapt real-world code examples from GitHub \"\n",
    "        \"and AWS samples that match these exact requirements, providing implementation steps that are appropriate for \"\n",
    "        \"the client's expertise level while meeting all their technical requirements.\"\n",
    "    ),\n",
    "    allow_delegation=True,\n",
    "    verbose=True,\n",
    ")"
   ]
  },
  {
   "cell_type": "markdown",
   "metadata": {},
   "source": [
    "4. Technical Constraints Specialist Agent"
   ]
  },
  {
   "cell_type": "code",
   "execution_count": 250,
   "metadata": {},
   "outputs": [],
   "source": [
    "constraints_agent = Agent(\n",
    "    role=\"Technical Constraints Specialist\",\n",
    "    goal=\"Identify implementation limitations and challenges for {use_case} with {security_tier} security and {compliance} compliance\",\n",
    "    backstory=(\n",
    "        \"You are an AWS technical specialist who focuses exclusively on practical limitations and edge cases that \"\n",
    "        \"impact real-world {use_case} implementations. You have deep knowledge of how service quotas and technical \"\n",
    "        \"constraints affect solutions that require {scalability} scalability and {performance} performance while \"\n",
    "        \"maintaining {availability}. You understand the specific challenges of implementing {cost_profile} solutions \"\n",
    "        \"that must meet {security_tier} security standards and {compliance} compliance requirements. \"\n",
    "        \"Your expertise is particularly valuable for projects with {implementation_time} timelines and teams with \"\n",
    "        \"{required_expertise} expertise levels who need {ease_of_implementation} implementation approaches. \"\n",
    "        \"For each component in an architecture, you identify quotas, limits, integration challenges, and \"\n",
    "        \"region-specific constraints that could affect implementation success, along with specific workarounds.\"\n",
    "    ),\n",
    "    allow_delegation=True,\n",
    "    verbose=True,\n",
    ")"
   ]
  },
  {
   "cell_type": "markdown",
   "metadata": {},
   "source": [
    "5. QA and Validation Agent"
   ]
  },
  {
   "cell_type": "code",
   "execution_count": 251,
   "metadata": {},
   "outputs": [],
   "source": [
    "qa_validation_agent = Agent(\n",
    "    role=\"Solution Validation Expert\",\n",
    "    goal=\"Critically evaluate {use_case} architectures against {cost_profile}, {scalability}, {security_tier}, and {performance} requirements\",\n",
    "    backstory=(\n",
    "        \"You are a senior AWS consultant who specializes in pre-implementation validation for {use_case} solutions. \"\n",
    "        \"Your responsibility is to identify gaps or suboptimal choices in proposed architectures, ensuring they truly \"\n",
    "        \"deliver {performance} performance with {availability} while maintaining {cost_profile} cost efficiency. \"\n",
    "        \"You have deep expertise in evaluating solutions against {compliance} requirements and {security_tier} security standards. \"\n",
    "        \"You understand the practical implementation challenges teams with {required_expertise} expertise face \"\n",
    "        \"when implementing solutions with {integration_complexity} integration complexity, especially on \"\n",
    "        \"{implementation_time} timelines. You're not satisfied with generic 'best practices' - you challenge every \"\n",
    "        \"architectural decision to ensure it's the optimal choice for these specific requirements.\"\n",
    "    ),\n",
    "    allow_delegation=True,\n",
    "    verbose=True,\n",
    ")"
   ]
  },
  {
   "cell_type": "markdown",
   "metadata": {},
   "source": [
    "6. Final Architecture Synthesizer Agent"
   ]
  },
  {
   "cell_type": "code",
   "execution_count": 252,
   "metadata": {},
   "outputs": [],
   "source": [
    "architecture_synthesizer = Agent(\n",
    "    role=\"Lead Solutions Architect\",\n",
    "    goal=\"Create an implementation-ready AWS architecture document for {use_case} with detailed deployment instructions\",\n",
    "    backstory=(\n",
    "        \"You are a senior AWS Solutions Architect specializing in {use_case} implementations that require \"\n",
    "        \"{performance} performance and {availability} availability. You excel at creating {cost_profile} solutions \"\n",
    "        \"that can scale to {scalability} levels while maintaining {security_tier} security standards and meeting \"\n",
    "        \"{compliance} compliance requirements. You understand the challenges of delivering solutions with \"\n",
    "        \"{ease_of_implementation} implementation complexity and {integration_complexity} integration needs, \"\n",
    "        \"especially for teams with {required_expertise} expertise working on {implementation_time} timelines. \"\n",
    "        \"Your implementation documents include actual code examples, detailed configuration guides, step-by-step \"\n",
    "        \"deployment instructions, and operational guidance that transforms architectural concepts into executable reality. \"\n",
    "        \"Your solutions are consultant-grade, providing all the detail necessary for successful implementation rather \"\n",
    "        \"than just high-level guidance.\"\n",
    "    ),\n",
    "    allow_delegation=False,\n",
    "    verbose=True,\n",
    ")"
   ]
  },
  {
   "cell_type": "markdown",
   "metadata": {},
   "source": [
    "Task 1: Knowledge Retrieval and Synthesis"
   ]
  },
  {
   "cell_type": "code",
   "execution_count": 253,
   "metadata": {},
   "outputs": [],
   "source": [
    "task_knowledge_retrieval = Task(\n",
    "    description=(\n",
    "        \"Research and synthesize AWS documentation specifically for implementing a {use_case} that meets these requirements:\\n\"\n",
    "        \"- Cost profile: {cost_profile}\\n\"\n",
    "        \"- Scalability needs: {scalability}\\n\"\n",
    "        \"- Security requirements: {security_tier}\\n\"\n",
    "        \"- Performance needs: {performance}\\n\"\n",
    "        \"- Availability requirements: {availability}\\n\"\n",
    "        \"- Compliance requirements: {compliance}\\n\"\n",
    "        \"- Implementation timeline: {implementation_time}\\n\"\n",
    "        \"- Implementation ease: {ease_of_implementation}\\n\"\n",
    "        \"- Integration complexity: {integration_complexity}\\n\"\n",
    "        \"- Team expertise level: {required_expertise}\\n\\n\"\n",
    "        \"For each service or architectural component you recommend for this specific use case and requirements:\\n\"\n",
    "        \"1. Document its specific purpose in this {use_case} architecture\\n\"\n",
    "        \"2. Detail how it meets the {cost_profile}, {scalability}, {security_tier}, and {performance} requirements\\n\"\n",
    "        \"3. Identify specific configuration options needed for this implementation\\n\"\n",
    "        \"4. Provide direct links to AWS documentation sections that address this exact use case and requirements\\n\"\n",
    "        \"Your output should be structured as implementation-focused knowledge, not a generic overview.\"\n",
    "    ),\n",
    "    expected_output=(\n",
    "        \"A comprehensive knowledge base specifically for {use_case} implementation that includes:\\n\"\n",
    "        \"- Core AWS services recommended for {use_case} with specific configuration details\\n\"\n",
    "        \"- Integration patterns between services optimized for {cost_profile} and {performance}\\n\"\n",
    "        \"- Security configurations that satisfy {security_tier} requirements and {compliance} compliance\\n\"\n",
    "        \"- Scaling mechanisms to achieve {scalability} and {availability} requirements\\n\"\n",
    "        \"- Implementation approaches suitable for {required_expertise} teams on {implementation_time} timelines\\n\"\n",
    "        \"- Direct references to specific sections in AWS documentation\"\n",
    "    ),\n",
    "    agent=knowledge_agent,\n",
    "    tools=[search_tool],\n",
    ")"
   ]
  },
  {
   "cell_type": "markdown",
   "metadata": {},
   "source": [
    "Task 2: Industry Solutions Analysis"
   ]
  },
  {
   "cell_type": "code",
   "execution_count": 254,
   "metadata": {},
   "outputs": [],
   "source": [
    "task_industry_solutions = Task(\n",
    "    description=(\n",
    "        \"Research and analyze real-world implementations of {use_case} solutions that meet these specific requirements:\\n\"\n",
    "        \"- Cost profile: {cost_profile}\\n\"\n",
    "        \"- Scalability needs: {scalability}\\n\"\n",
    "        \"- Security requirements: {security_tier}\\n\"\n",
    "        \"- Performance needs: {performance}\\n\"\n",
    "        \"- Availability requirements: {availability}\\n\"\n",
    "        \"- Compliance requirements: {compliance}\\n\"\n",
    "        \"- Implementation timeline: {implementation_time}\\n\\n\"\n",
    "        \"For each relevant case study or reference architecture you find:\\n\"\n",
    "        \"1. Document the exact AWS services and configurations used\\n\"\n",
    "        \"2. Detail how the solution addressed requirements similar to our {cost_profile}, {scalability}, {security_tier} needs\\n\"\n",
    "        \"3. Extract specific implementation decisions that enabled success for {use_case} implementations\\n\"\n",
    "        \"4. Identify any optimization patterns that improved cost efficiency or performance\\n\"\n",
    "        \"5. Note any implementation challenges faced and how they were overcome\\n\"\n",
    "        \"Focus exclusively on finding concrete examples, not theoretical architectures.\"\n",
    "    ),\n",
    "    expected_output=(\n",
    "        \"A detailed analysis of real-world {use_case} implementations that includes:\\n\"\n",
    "        \"- Specific customer case studies of {use_case} implementations\\n\"\n",
    "        \"- Technical architecture details from these implementations\\n\"\n",
    "        \"- How these implementations achieved {cost_profile}, {scalability}, and {security_tier} requirements\\n\"\n",
    "        \"- Configuration choices made to meet {performance} and {availability} needs\\n\"\n",
    "        \"- Implementation approaches used by teams with {required_expertise} expertise levels\\n\"\n",
    "        \"- Specific lessons learned and optimization techniques from these implementations\"\n",
    "    ),\n",
    "    agent=industry_solutions_agent,\n",
    "    tools=[search_tool],\n",
    ")"
   ]
  },
  {
   "cell_type": "markdown",
   "metadata": {},
   "source": [
    "Task 3: Implementation Details Specification"
   ]
  },
  {
   "cell_type": "code",
   "execution_count": 255,
   "metadata": {},
   "outputs": [],
   "source": [
    "task_implementation_details = Task(\n",
    "    description=(\n",
    "        \"Develop detailed implementation specifications for a {use_case} solution that meets these requirements:\\n\"\n",
    "        \"- Cost profile: {cost_profile}\\n\"\n",
    "        \"- Scalability needs: {scalability}\\n\"\n",
    "        \"- Security tier: {security_tier}\\n\"\n",
    "        \"- Performance needs: {performance}\\n\"\n",
    "        \"- Availability requirements: {availability}\\n\"\n",
    "        \"- Compliance requirements: {compliance}\\n\"\n",
    "        \"- Implementation timeline: {implementation_time}\\n\"\n",
    "        \"- Team expertise level: {required_expertise}\\n\\n\"\n",
    "        \"For each major component in the {use_case} architecture:\\n\"\n",
    "        \"1. Provide actual infrastructure-as-code templates (CloudFormation, Terraform, or CDK)\\n\"\n",
    "        \"2. Include specific AWS CLI commands or SDK code snippets for setup and configuration\\n\"\n",
    "        \"3. Detail IAM policies and security configurations that meet {security_tier} requirements\\n\"\n",
    "        \"4. Provide network configuration details optimized for {performance} and {availability}\\n\"\n",
    "        \"5. Include service-specific parameter configurations appropriate for {scalability} needs\\n\"\n",
    "        \"Your output must include actual code examples and step-by-step setup instructions.\"\n",
    "    ),\n",
    "    expected_output=(\n",
    "        \"A detailed implementation guide for {use_case} that includes:\\n\"\n",
    "        \"- Infrastructure-as-code templates for all major components\\n\"\n",
    "        \"- AWS CLI commands and SDK code snippets for configuration\\n\"\n",
    "        \"- Complete IAM policy documents meeting {security_tier} requirements\\n\"\n",
    "        \"- Security group and networking configurations for {performance} and {availability}\\n\"\n",
    "        \"- Service parameter settings optimized for {cost_profile} and {scalability}\\n\"\n",
    "        \"- Step-by-step deployment instructions appropriate for {required_expertise} teams\"\n",
    "    ),\n",
    "    agent=implementation_details_agent,\n",
    "    tools=[search_tool],\n",
    ")"
   ]
  },
  {
   "cell_type": "markdown",
   "metadata": {},
   "source": [
    "Task 4: Technical Constraints Analysis"
   ]
  },
  {
   "cell_type": "code",
   "execution_count": 256,
   "metadata": {},
   "outputs": [],
   "source": [
    "task_constraints_analysis = Task(\n",
    "    description=(\n",
    "        \"Identify all technical constraints and limitations for a {use_case} implementation with these requirements:\\n\"\n",
    "        \"- Cost profile: {cost_profile}\\n\"\n",
    "        \"- Scalability needs: {scalability}\\n\"\n",
    "        \"- Security tier: {security_tier}\\n\"\n",
    "        \"- Performance needs: {performance}\\n\"\n",
    "        \"- Availability requirements: {availability}\\n\"\n",
    "        \"- Compliance requirements: {compliance}\\n\"\n",
    "        \"- Implementation timeline: {implementation_time}\\n\\n\"\n",
    "        \"For each component in the {use_case} architecture:\\n\"\n",
    "        \"1. Document applicable service quotas and limits that could affect implementation\\n\"\n",
    "        \"2. Identify potential performance bottlenecks for achieving {performance} requirements\\n\"\n",
    "        \"3. Detail integration challenges between services, especially for {availability} requirements\\n\"\n",
    "        \"4. Outline region-specific considerations for {availability} and {compliance} requirements\\n\"\n",
    "        \"5. Document specific technical constraints related to {compliance} implementation\\n\"\n",
    "        \"For each constraint identified, provide specific workarounds or solutions.\"\n",
    "    ),\n",
    "    expected_output=(\n",
    "        \"A comprehensive constraints analysis for {use_case} implementation that includes:\\n\"\n",
    "        \"- Service quotas and limits for each component that could affect {scalability}\\n\"\n",
    "        \"- Performance constraints and solutions to achieve {performance} requirements\\n\"\n",
    "        \"- Integration challenges and workarounds for {security_tier} and {availability} needs\\n\"\n",
    "        \"- Region-specific implementation details for {availability} requirements\\n\"\n",
    "        \"- Technical constraints related to {compliance} implementation\\n\"\n",
    "        \"- Specific solutions and workarounds for each constraint\"\n",
    "    ),\n",
    "    agent=constraints_agent,\n",
    "    tools=[search_tool],\n",
    ")"
   ]
  },
  {
   "cell_type": "markdown",
   "metadata": {},
   "source": [
    "Task 5: Solution Validation and Enhancement"
   ]
  },
  {
   "cell_type": "code",
   "execution_count": 257,
   "metadata": {},
   "outputs": [],
   "source": [
    "task_validation = Task(\n",
    "    description=(\n",
    "        \"Critically evaluate the proposed {use_case} architecture against these specific requirements:\\n\"\n",
    "        \"- Cost profile: {cost_profile}\\n\"\n",
    "        \"- Scalability needs: {scalability}\\n\"\n",
    "        \"- Security tier: {security_tier}\\n\"\n",
    "        \"- Performance needs: {performance}\\n\"\n",
    "        \"- Availability requirements: {availability}\\n\"\n",
    "        \"- Compliance requirements: {compliance}\\n\"\n",
    "        \"- Implementation timeline: {implementation_time}\\n\"\n",
    "        \"- Implementation ease: {ease_of_implementation}\\n\"\n",
    "        \"- Integration complexity: {integration_complexity}\\n\"\n",
    "        \"- Team expertise level: {required_expertise}\\n\\n\"\n",
    "        \"For each component and design decision in the architecture:\\n\"\n",
    "        \"1. Verify alignment with the stated requirements\\n\"\n",
    "        \"2. Evaluate against the AWS Well-Architected Framework principles\\n\"\n",
    "        \"3. Identify any suboptimal choices for this specific {use_case}\\n\"\n",
    "        \"4. Suggest specific improvements that better meet the requirements\\n\"\n",
    "        \"5. Validate that implementation details are complete and technically sound\\n\"\n",
    "        \"Provide specific, actionable feedback focused on practical implementation concerns.\"\n",
    "    ),\n",
    "    expected_output=(\n",
    "        \"A detailed validation report that includes:\\n\"\n",
    "        \"- Analysis of how each component meets the specific {use_case} requirements\\n\"\n",
    "        \"- Well-Architected Framework evaluation focused on {cost_profile}, {security_tier}, and {performance}\\n\"\n",
    "        \"- Identification of suboptimal choices for {use_case} with {scalability} and {availability} needs\\n\"\n",
    "        \"- Specific architectural improvements with implementation detail\\n\"\n",
    "        \"- Implementation detail verification for {required_expertise} teams within {implementation_time} timelines\\n\"\n",
    "        \"- Actionable enhancements to improve the architecture\"\n",
    "    ),\n",
    "    agent=qa_validation_agent,\n",
    "    tools=[search_tool],\n",
    ")"
   ]
  },
  {
   "cell_type": "markdown",
   "metadata": {},
   "source": [
    "Task 6: Final Architecture Synthesis"
   ]
  },
  {
   "cell_type": "code",
   "execution_count": 258,
   "metadata": {},
   "outputs": [],
   "source": [
    "task_architecture_synthesis = Task(\n",
    "    description=(\n",
    "        \"Create a comprehensive, implementation-ready AWS architecture document for a {use_case} that meets these requirements:\\n\"\n",
    "        \"- Cost profile: {cost_profile}\\n\"\n",
    "        \"- Scalability needs: {scalability}\\n\"\n",
    "        \"- Security tier: {security_tier}\\n\"\n",
    "        \"- Performance needs: {performance}\\n\"\n",
    "        \"- Availability requirements: {availability}\\n\"\n",
    "        \"- Compliance requirements: {compliance}\\n\"\n",
    "        \"- Implementation timeline: {implementation_time}\\n\"\n",
    "        \"- Implementation ease: {ease_of_implementation}\\n\"\n",
    "        \"- Integration complexity: {integration_complexity}\\n\"\n",
    "        \"- Team expertise level: {required_expertise}\\n\\n\"\n",
    "        \"The document must include:\\n\"\n",
    "        \"1. Executive summary relating the architecture directly to {use_case} requirements\\n\"\n",
    "        \"2. Detailed architecture diagram with all components and their interactions\\n\"\n",
    "        \"3. Component-by-component implementation specifications including service configurations, \"\n",
    "        \"   integration details, security implementations, and scaling mechanisms\\n\"\n",
    "        \"4. Step-by-step implementation plan with actual code examples and configuration files\\n\"\n",
    "        \"5. Implementation timeline and resource requirements aligned with {implementation_time} needs\\n\"\n",
    "        \"6. Operational considerations and monitoring setup\\n\"\n",
    "        \"7. Cost estimation based on the {cost_profile} requirements\\n\"\n",
    "        \"The document should be structured as a consultant's implementation guide that provides all \"\n",
    "        \"details needed for a {required_expertise} team to implement this solution.\"\n",
    "    ),\n",
    "    expected_output=(\n",
    "        \"A comprehensive AWS architecture implementation document for {use_case} that includes:\\n\"\n",
    "        \"- Executive summary targeted to the specific requirements\\n\"\n",
    "        \"- Detailed architecture diagram showing all components\\n\"\n",
    "        \"- Component-by-component specifications meeting {security_tier}, {performance}, and {scalability} needs\\n\"\n",
    "        \"- Implementation code and configuration files\\n\"\n",
    "        \"- Step-by-step deployment guide appropriate for {required_expertise} expertise\\n\"\n",
    "        \"- Implementation timeline aligned with {implementation_time} requirements\\n\"\n",
    "        \"- Operational guidance for maintaining {availability} requirements\\n\"\n",
    "        \"- Cost estimation based on {cost_profile} parameters\\n\"\n",
    "        \"The document will be implementation-ready with all details needed for deployment.\"\n",
    "    ),\n",
    "    agent=architecture_synthesizer\n",
    ")"
   ]
  },
  {
   "cell_type": "code",
   "execution_count": 259,
   "metadata": {},
   "outputs": [
    {
     "name": "stderr",
     "output_type": "stream",
     "text": [
      "2025-04-04 21:39:39,812 - 14928 - __init__.py-__init__:537 - WARNING: Overriding of current TracerProvider is not allowed\n"
     ]
    }
   ],
   "source": [
    "crew = Crew(\n",
    "    agents=[\n",
    "        knowledge_agent,\n",
    "        industry_solutions_agent,\n",
    "        implementation_details_agent,\n",
    "        constraints_agent,\n",
    "        qa_validation_agent,\n",
    "        architecture_synthesizer\n",
    "    ],\n",
    "    tasks=[\n",
    "        task_knowledge_retrieval,\n",
    "        task_industry_solutions,\n",
    "        task_implementation_details,\n",
    "        task_constraints_analysis,\n",
    "        task_validation,\n",
    "        task_architecture_synthesis\n",
    "    ],\n",
    "    process=Process.sequential,  # Ensures logical step-by-step execution\n",
    "    verbose=2,  # Set verbosity level for detailed logs during execution\n",
    ")"
   ]
  },
  {
   "cell_type": "code",
   "execution_count": null,
   "metadata": {},
   "outputs": [
    {
     "name": "stdout",
     "output_type": "stream",
     "text": [
      "\u001b[1m\u001b[95m [DEBUG]: == Working Agent: AWS Documentation Specialist\u001b[00m\n",
      "\u001b[1m\u001b[95m [INFO]: == Starting Task: Research and synthesize AWS documentation specifically for implementing a AI-powered customer support chatbot that meets these requirements:\n",
      "- Cost profile: Cost-Optimized\n",
      "- Scalability needs: Medium\n",
      "- Security requirements: Enterprise\n",
      "- Performance needs: High Performance\n",
      "- Availability requirements: High Availability (multi-region)\n",
      "- Compliance requirements: ['GDPR', 'HIPAA']\n",
      "- Implementation timeline: Short (days)\n",
      "- Implementation ease: Easy\n",
      "- Integration complexity: Moderate\n",
      "- Team expertise level: Intermediate\n",
      "\n",
      "For each service or architectural component you recommend for this specific use case and requirements:\n",
      "1. Document its specific purpose in this AI-powered customer support chatbot architecture\n",
      "2. Detail how it meets the Cost-Optimized, Medium, Enterprise, and High Performance requirements\n",
      "3. Identify specific configuration options needed for this implementation\n",
      "4. Provide direct links to AWS documentation sections that address this exact use case and requirements\n",
      "Your output should be structured as implementation-focused knowledge, not a generic overview.\u001b[00m\n",
      "\n",
      "\n",
      "\u001b[1m> Entering new CrewAgentExecutor chain...\u001b[0m\n"
     ]
    },
    {
     "ename": "KeyboardInterrupt",
     "evalue": "",
     "output_type": "error",
     "traceback": [
      "\u001b[31m---------------------------------------------------------------------------\u001b[39m",
      "\u001b[31mKeyboardInterrupt\u001b[39m                         Traceback (most recent call last)",
      "\u001b[36mCell\u001b[39m\u001b[36m \u001b[39m\u001b[32mIn[260]\u001b[39m\u001b[32m, line 15\u001b[39m\n\u001b[32m      1\u001b[39m user_requirements = {\n\u001b[32m      2\u001b[39m     \u001b[33m'\u001b[39m\u001b[33mcost_profile\u001b[39m\u001b[33m'\u001b[39m: \u001b[33m\"\u001b[39m\u001b[33mCost-Optimized\u001b[39m\u001b[33m\"\u001b[39m,\n\u001b[32m      3\u001b[39m     \u001b[33m'\u001b[39m\u001b[33mscalability\u001b[39m\u001b[33m'\u001b[39m: \u001b[33m\"\u001b[39m\u001b[33mMedium\u001b[39m\u001b[33m\"\u001b[39m,\n\u001b[32m   (...)\u001b[39m\u001b[32m     12\u001b[39m     \u001b[33m'\u001b[39m\u001b[33mimplementation_time\u001b[39m\u001b[33m'\u001b[39m: \u001b[33m\"\u001b[39m\u001b[33mShort (days)\u001b[39m\u001b[33m\"\u001b[39m\n\u001b[32m     13\u001b[39m }\n\u001b[32m---> \u001b[39m\u001b[32m15\u001b[39m \u001b[43mcrew\u001b[49m\u001b[43m.\u001b[49m\u001b[43mkickoff\u001b[49m\u001b[43m(\u001b[49m\u001b[43minputs\u001b[49m\u001b[43m=\u001b[49m\u001b[43muser_requirements\u001b[49m\u001b[43m)\u001b[49m\n\u001b[32m     17\u001b[39m crew.kickoff(inputs=user_requirements)\n",
      "\u001b[36mFile \u001b[39m\u001b[32m~\\AppData\\Local\\pypoetry\\Cache\\virtualenvs\\aws-sa-crew-jiuHyfR2-py3.12\\Lib\\site-packages\\crewai\\crew.py:252\u001b[39m, in \u001b[36mCrew.kickoff\u001b[39m\u001b[34m(self, inputs)\u001b[39m\n\u001b[32m    249\u001b[39m metrics = []\n\u001b[32m    251\u001b[39m \u001b[38;5;28;01mif\u001b[39;00m \u001b[38;5;28mself\u001b[39m.process == Process.sequential:\n\u001b[32m--> \u001b[39m\u001b[32m252\u001b[39m     result = \u001b[38;5;28;43mself\u001b[39;49m\u001b[43m.\u001b[49m\u001b[43m_run_sequential_process\u001b[49m\u001b[43m(\u001b[49m\u001b[43m)\u001b[49m\n\u001b[32m    253\u001b[39m \u001b[38;5;28;01melif\u001b[39;00m \u001b[38;5;28mself\u001b[39m.process == Process.hierarchical:\n\u001b[32m    254\u001b[39m     result, manager_metrics = \u001b[38;5;28mself\u001b[39m._run_hierarchical_process()\n",
      "\u001b[36mFile \u001b[39m\u001b[32m~\\AppData\\Local\\pypoetry\\Cache\\virtualenvs\\aws-sa-crew-jiuHyfR2-py3.12\\Lib\\site-packages\\crewai\\crew.py:293\u001b[39m, in \u001b[36mCrew._run_sequential_process\u001b[39m\u001b[34m(self)\u001b[39m\n\u001b[32m    288\u001b[39m \u001b[38;5;28;01mif\u001b[39;00m \u001b[38;5;28mself\u001b[39m.output_log_file:\n\u001b[32m    289\u001b[39m     \u001b[38;5;28mself\u001b[39m._file_handler.log(\n\u001b[32m    290\u001b[39m         agent=role, task=task.description, status=\u001b[33m\"\u001b[39m\u001b[33mstarted\u001b[39m\u001b[33m\"\u001b[39m\n\u001b[32m    291\u001b[39m     )\n\u001b[32m--> \u001b[39m\u001b[32m293\u001b[39m output = \u001b[43mtask\u001b[49m\u001b[43m.\u001b[49m\u001b[43mexecute\u001b[49m\u001b[43m(\u001b[49m\u001b[43mcontext\u001b[49m\u001b[43m=\u001b[49m\u001b[43mtask_output\u001b[49m\u001b[43m)\u001b[49m\n\u001b[32m    294\u001b[39m \u001b[38;5;28;01mif\u001b[39;00m \u001b[38;5;129;01mnot\u001b[39;00m task.async_execution:\n\u001b[32m    295\u001b[39m     task_output = output\n",
      "\u001b[36mFile \u001b[39m\u001b[32m~\\AppData\\Local\\pypoetry\\Cache\\virtualenvs\\aws-sa-crew-jiuHyfR2-py3.12\\Lib\\site-packages\\crewai\\task.py:173\u001b[39m, in \u001b[36mTask.execute\u001b[39m\u001b[34m(self, agent, context, tools)\u001b[39m\n\u001b[32m    171\u001b[39m     \u001b[38;5;28mself\u001b[39m.thread.start()\n\u001b[32m    172\u001b[39m \u001b[38;5;28;01melse\u001b[39;00m:\n\u001b[32m--> \u001b[39m\u001b[32m173\u001b[39m     result = \u001b[38;5;28;43mself\u001b[39;49m\u001b[43m.\u001b[49m\u001b[43m_execute\u001b[49m\u001b[43m(\u001b[49m\n\u001b[32m    174\u001b[39m \u001b[43m        \u001b[49m\u001b[43mtask\u001b[49m\u001b[43m=\u001b[49m\u001b[38;5;28;43mself\u001b[39;49m\u001b[43m,\u001b[49m\n\u001b[32m    175\u001b[39m \u001b[43m        \u001b[49m\u001b[43magent\u001b[49m\u001b[43m=\u001b[49m\u001b[43magent\u001b[49m\u001b[43m,\u001b[49m\n\u001b[32m    176\u001b[39m \u001b[43m        \u001b[49m\u001b[43mcontext\u001b[49m\u001b[43m=\u001b[49m\u001b[43mcontext\u001b[49m\u001b[43m,\u001b[49m\n\u001b[32m    177\u001b[39m \u001b[43m        \u001b[49m\u001b[43mtools\u001b[49m\u001b[43m=\u001b[49m\u001b[43mtools\u001b[49m\u001b[43m,\u001b[49m\n\u001b[32m    178\u001b[39m \u001b[43m    \u001b[49m\u001b[43m)\u001b[49m\n\u001b[32m    179\u001b[39m     \u001b[38;5;28;01mreturn\u001b[39;00m result\n",
      "\u001b[36mFile \u001b[39m\u001b[32m~\\AppData\\Local\\pypoetry\\Cache\\virtualenvs\\aws-sa-crew-jiuHyfR2-py3.12\\Lib\\site-packages\\crewai\\task.py:182\u001b[39m, in \u001b[36mTask._execute\u001b[39m\u001b[34m(self, agent, task, context, tools)\u001b[39m\n\u001b[32m    181\u001b[39m \u001b[38;5;28;01mdef\u001b[39;00m\u001b[38;5;250m \u001b[39m\u001b[34m_execute\u001b[39m(\u001b[38;5;28mself\u001b[39m, agent, task, context, tools):\n\u001b[32m--> \u001b[39m\u001b[32m182\u001b[39m     result = \u001b[43magent\u001b[49m\u001b[43m.\u001b[49m\u001b[43mexecute_task\u001b[49m\u001b[43m(\u001b[49m\n\u001b[32m    183\u001b[39m \u001b[43m        \u001b[49m\u001b[43mtask\u001b[49m\u001b[43m=\u001b[49m\u001b[43mtask\u001b[49m\u001b[43m,\u001b[49m\n\u001b[32m    184\u001b[39m \u001b[43m        \u001b[49m\u001b[43mcontext\u001b[49m\u001b[43m=\u001b[49m\u001b[43mcontext\u001b[49m\u001b[43m,\u001b[49m\n\u001b[32m    185\u001b[39m \u001b[43m        \u001b[49m\u001b[43mtools\u001b[49m\u001b[43m=\u001b[49m\u001b[43mtools\u001b[49m\u001b[43m,\u001b[49m\n\u001b[32m    186\u001b[39m \u001b[43m    \u001b[49m\u001b[43m)\u001b[49m\n\u001b[32m    188\u001b[39m     exported_output = \u001b[38;5;28mself\u001b[39m._export_output(result)\n\u001b[32m    190\u001b[39m     \u001b[38;5;28mself\u001b[39m.output = TaskOutput(\n\u001b[32m    191\u001b[39m         description=\u001b[38;5;28mself\u001b[39m.description,\n\u001b[32m    192\u001b[39m         exported_output=exported_output,\n\u001b[32m    193\u001b[39m         raw_output=result,\n\u001b[32m    194\u001b[39m     )\n",
      "\u001b[36mFile \u001b[39m\u001b[32m~\\AppData\\Local\\pypoetry\\Cache\\virtualenvs\\aws-sa-crew-jiuHyfR2-py3.12\\Lib\\site-packages\\crewai\\agent.py:221\u001b[39m, in \u001b[36mAgent.execute_task\u001b[39m\u001b[34m(self, task, context, tools)\u001b[39m\n\u001b[32m    218\u001b[39m \u001b[38;5;28mself\u001b[39m.agent_executor.tools_description = render_text_description(parsed_tools)\n\u001b[32m    219\u001b[39m \u001b[38;5;28mself\u001b[39m.agent_executor.tools_names = \u001b[38;5;28mself\u001b[39m.__tools_names(parsed_tools)\n\u001b[32m--> \u001b[39m\u001b[32m221\u001b[39m result = \u001b[38;5;28;43mself\u001b[39;49m\u001b[43m.\u001b[49m\u001b[43magent_executor\u001b[49m\u001b[43m.\u001b[49m\u001b[43minvoke\u001b[49m\u001b[43m(\u001b[49m\n\u001b[32m    222\u001b[39m \u001b[43m    \u001b[49m\u001b[43m{\u001b[49m\n\u001b[32m    223\u001b[39m \u001b[43m        \u001b[49m\u001b[33;43m\"\u001b[39;49m\u001b[33;43minput\u001b[39;49m\u001b[33;43m\"\u001b[39;49m\u001b[43m:\u001b[49m\u001b[43m \u001b[49m\u001b[43mtask_prompt\u001b[49m\u001b[43m,\u001b[49m\n\u001b[32m    224\u001b[39m \u001b[43m        \u001b[49m\u001b[33;43m\"\u001b[39;49m\u001b[33;43mtool_names\u001b[39;49m\u001b[33;43m\"\u001b[39;49m\u001b[43m:\u001b[49m\u001b[43m \u001b[49m\u001b[38;5;28;43mself\u001b[39;49m\u001b[43m.\u001b[49m\u001b[43magent_executor\u001b[49m\u001b[43m.\u001b[49m\u001b[43mtools_names\u001b[49m\u001b[43m,\u001b[49m\n\u001b[32m    225\u001b[39m \u001b[43m        \u001b[49m\u001b[33;43m\"\u001b[39;49m\u001b[33;43mtools\u001b[39;49m\u001b[33;43m\"\u001b[39;49m\u001b[43m:\u001b[49m\u001b[43m \u001b[49m\u001b[38;5;28;43mself\u001b[39;49m\u001b[43m.\u001b[49m\u001b[43magent_executor\u001b[49m\u001b[43m.\u001b[49m\u001b[43mtools_description\u001b[49m\u001b[43m,\u001b[49m\n\u001b[32m    226\u001b[39m \u001b[43m    \u001b[49m\u001b[43m}\u001b[49m\n\u001b[32m    227\u001b[39m \u001b[43m\u001b[49m\u001b[43m)\u001b[49m[\u001b[33m\"\u001b[39m\u001b[33moutput\u001b[39m\u001b[33m\"\u001b[39m]\n\u001b[32m    229\u001b[39m \u001b[38;5;28;01mif\u001b[39;00m \u001b[38;5;28mself\u001b[39m.max_rpm:\n\u001b[32m    230\u001b[39m     \u001b[38;5;28mself\u001b[39m._rpm_controller.stop_rpm_counter()\n",
      "\u001b[36mFile \u001b[39m\u001b[32m~\\AppData\\Local\\pypoetry\\Cache\\virtualenvs\\aws-sa-crew-jiuHyfR2-py3.12\\Lib\\site-packages\\langchain\\chains\\base.py:163\u001b[39m, in \u001b[36mChain.invoke\u001b[39m\u001b[34m(self, input, config, **kwargs)\u001b[39m\n\u001b[32m    161\u001b[39m \u001b[38;5;28;01mexcept\u001b[39;00m \u001b[38;5;167;01mBaseException\u001b[39;00m \u001b[38;5;28;01mas\u001b[39;00m e:\n\u001b[32m    162\u001b[39m     run_manager.on_chain_error(e)\n\u001b[32m--> \u001b[39m\u001b[32m163\u001b[39m     \u001b[38;5;28;01mraise\u001b[39;00m e\n\u001b[32m    164\u001b[39m run_manager.on_chain_end(outputs)\n\u001b[32m    166\u001b[39m \u001b[38;5;28;01mif\u001b[39;00m include_run_info:\n",
      "\u001b[36mFile \u001b[39m\u001b[32m~\\AppData\\Local\\pypoetry\\Cache\\virtualenvs\\aws-sa-crew-jiuHyfR2-py3.12\\Lib\\site-packages\\langchain\\chains\\base.py:153\u001b[39m, in \u001b[36mChain.invoke\u001b[39m\u001b[34m(self, input, config, **kwargs)\u001b[39m\n\u001b[32m    150\u001b[39m \u001b[38;5;28;01mtry\u001b[39;00m:\n\u001b[32m    151\u001b[39m     \u001b[38;5;28mself\u001b[39m._validate_inputs(inputs)\n\u001b[32m    152\u001b[39m     outputs = (\n\u001b[32m--> \u001b[39m\u001b[32m153\u001b[39m         \u001b[38;5;28;43mself\u001b[39;49m\u001b[43m.\u001b[49m\u001b[43m_call\u001b[49m\u001b[43m(\u001b[49m\u001b[43minputs\u001b[49m\u001b[43m,\u001b[49m\u001b[43m \u001b[49m\u001b[43mrun_manager\u001b[49m\u001b[43m=\u001b[49m\u001b[43mrun_manager\u001b[49m\u001b[43m)\u001b[49m\n\u001b[32m    154\u001b[39m         \u001b[38;5;28;01mif\u001b[39;00m new_arg_supported\n\u001b[32m    155\u001b[39m         \u001b[38;5;28;01melse\u001b[39;00m \u001b[38;5;28mself\u001b[39m._call(inputs)\n\u001b[32m    156\u001b[39m     )\n\u001b[32m    158\u001b[39m     final_outputs: Dict[\u001b[38;5;28mstr\u001b[39m, Any] = \u001b[38;5;28mself\u001b[39m.prep_outputs(\n\u001b[32m    159\u001b[39m         inputs, outputs, return_only_outputs\n\u001b[32m    160\u001b[39m     )\n\u001b[32m    161\u001b[39m \u001b[38;5;28;01mexcept\u001b[39;00m \u001b[38;5;167;01mBaseException\u001b[39;00m \u001b[38;5;28;01mas\u001b[39;00m e:\n",
      "\u001b[36mFile \u001b[39m\u001b[32m~\\AppData\\Local\\pypoetry\\Cache\\virtualenvs\\aws-sa-crew-jiuHyfR2-py3.12\\Lib\\site-packages\\crewai\\agents\\executor.py:124\u001b[39m, in \u001b[36mCrewAgentExecutor._call\u001b[39m\u001b[34m(self, inputs, run_manager)\u001b[39m\n\u001b[32m    122\u001b[39m \u001b[38;5;28;01mwhile\u001b[39;00m \u001b[38;5;28mself\u001b[39m._should_continue(\u001b[38;5;28mself\u001b[39m.iterations, time_elapsed):\n\u001b[32m    123\u001b[39m     \u001b[38;5;28;01mif\u001b[39;00m \u001b[38;5;129;01mnot\u001b[39;00m \u001b[38;5;28mself\u001b[39m.request_within_rpm_limit \u001b[38;5;129;01mor\u001b[39;00m \u001b[38;5;28mself\u001b[39m.request_within_rpm_limit():\n\u001b[32m--> \u001b[39m\u001b[32m124\u001b[39m         next_step_output = \u001b[38;5;28;43mself\u001b[39;49m\u001b[43m.\u001b[49m\u001b[43m_take_next_step\u001b[49m\u001b[43m(\u001b[49m\n\u001b[32m    125\u001b[39m \u001b[43m            \u001b[49m\u001b[43mname_to_tool_map\u001b[49m\u001b[43m,\u001b[49m\n\u001b[32m    126\u001b[39m \u001b[43m            \u001b[49m\u001b[43mcolor_mapping\u001b[49m\u001b[43m,\u001b[49m\n\u001b[32m    127\u001b[39m \u001b[43m            \u001b[49m\u001b[43minputs\u001b[49m\u001b[43m,\u001b[49m\n\u001b[32m    128\u001b[39m \u001b[43m            \u001b[49m\u001b[43mintermediate_steps\u001b[49m\u001b[43m,\u001b[49m\n\u001b[32m    129\u001b[39m \u001b[43m            \u001b[49m\u001b[43mrun_manager\u001b[49m\u001b[43m=\u001b[49m\u001b[43mrun_manager\u001b[49m\u001b[43m,\u001b[49m\n\u001b[32m    130\u001b[39m \u001b[43m        \u001b[49m\u001b[43m)\u001b[49m\n\u001b[32m    131\u001b[39m         \u001b[38;5;28;01mif\u001b[39;00m \u001b[38;5;28mself\u001b[39m.step_callback:\n\u001b[32m    132\u001b[39m             \u001b[38;5;28mself\u001b[39m.step_callback(next_step_output)\n",
      "\u001b[36mFile \u001b[39m\u001b[32m~\\AppData\\Local\\pypoetry\\Cache\\virtualenvs\\aws-sa-crew-jiuHyfR2-py3.12\\Lib\\site-packages\\langchain\\agents\\agent.py:1140\u001b[39m, in \u001b[36mAgentExecutor._take_next_step\u001b[39m\u001b[34m(self, name_to_tool_map, color_mapping, inputs, intermediate_steps, run_manager)\u001b[39m\n\u001b[32m   1129\u001b[39m \u001b[38;5;28;01mdef\u001b[39;00m\u001b[38;5;250m \u001b[39m\u001b[34m_take_next_step\u001b[39m(\n\u001b[32m   1130\u001b[39m     \u001b[38;5;28mself\u001b[39m,\n\u001b[32m   1131\u001b[39m     name_to_tool_map: Dict[\u001b[38;5;28mstr\u001b[39m, BaseTool],\n\u001b[32m   (...)\u001b[39m\u001b[32m   1135\u001b[39m     run_manager: Optional[CallbackManagerForChainRun] = \u001b[38;5;28;01mNone\u001b[39;00m,\n\u001b[32m   1136\u001b[39m ) -> Union[AgentFinish, List[Tuple[AgentAction, \u001b[38;5;28mstr\u001b[39m]]]:\n\u001b[32m   1137\u001b[39m     \u001b[38;5;28;01mreturn\u001b[39;00m \u001b[38;5;28mself\u001b[39m._consume_next_step(\n\u001b[32m   1138\u001b[39m         \u001b[43m[\u001b[49m\n\u001b[32m   1139\u001b[39m \u001b[43m            \u001b[49m\u001b[43ma\u001b[49m\n\u001b[32m-> \u001b[39m\u001b[32m1140\u001b[39m \u001b[43m            \u001b[49m\u001b[38;5;28;43;01mfor\u001b[39;49;00m\u001b[43m \u001b[49m\u001b[43ma\u001b[49m\u001b[43m \u001b[49m\u001b[38;5;129;43;01min\u001b[39;49;00m\u001b[43m \u001b[49m\u001b[38;5;28;43mself\u001b[39;49m\u001b[43m.\u001b[49m\u001b[43m_iter_next_step\u001b[49m\u001b[43m(\u001b[49m\n\u001b[32m   1141\u001b[39m \u001b[43m                \u001b[49m\u001b[43mname_to_tool_map\u001b[49m\u001b[43m,\u001b[49m\n\u001b[32m   1142\u001b[39m \u001b[43m                \u001b[49m\u001b[43mcolor_mapping\u001b[49m\u001b[43m,\u001b[49m\n\u001b[32m   1143\u001b[39m \u001b[43m                \u001b[49m\u001b[43minputs\u001b[49m\u001b[43m,\u001b[49m\n\u001b[32m   1144\u001b[39m \u001b[43m                \u001b[49m\u001b[43mintermediate_steps\u001b[49m\u001b[43m,\u001b[49m\n\u001b[32m   1145\u001b[39m \u001b[43m                \u001b[49m\u001b[43mrun_manager\u001b[49m\u001b[43m,\u001b[49m\n\u001b[32m   1146\u001b[39m \u001b[43m            \u001b[49m\u001b[43m)\u001b[49m\n\u001b[32m   1147\u001b[39m \u001b[43m        \u001b[49m\u001b[43m]\u001b[49m\n\u001b[32m   1148\u001b[39m     )\n",
      "\u001b[36mFile \u001b[39m\u001b[32m~\\AppData\\Local\\pypoetry\\Cache\\virtualenvs\\aws-sa-crew-jiuHyfR2-py3.12\\Lib\\site-packages\\crewai\\agents\\executor.py:186\u001b[39m, in \u001b[36mCrewAgentExecutor._iter_next_step\u001b[39m\u001b[34m(self, name_to_tool_map, color_mapping, inputs, intermediate_steps, run_manager)\u001b[39m\n\u001b[32m    183\u001b[39m     intermediate_steps = \u001b[38;5;28mself\u001b[39m._prepare_intermediate_steps(intermediate_steps)\n\u001b[32m    185\u001b[39m     \u001b[38;5;66;03m# Call the LLM to see what to do.\u001b[39;00m\n\u001b[32m--> \u001b[39m\u001b[32m186\u001b[39m     output = \u001b[38;5;28;43mself\u001b[39;49m\u001b[43m.\u001b[49m\u001b[43magent\u001b[49m\u001b[43m.\u001b[49m\u001b[43mplan\u001b[49m\u001b[43m(\u001b[49m\n\u001b[32m    187\u001b[39m \u001b[43m        \u001b[49m\u001b[43mintermediate_steps\u001b[49m\u001b[43m,\u001b[49m\n\u001b[32m    188\u001b[39m \u001b[43m        \u001b[49m\u001b[43mcallbacks\u001b[49m\u001b[43m=\u001b[49m\u001b[43mrun_manager\u001b[49m\u001b[43m.\u001b[49m\u001b[43mget_child\u001b[49m\u001b[43m(\u001b[49m\u001b[43m)\u001b[49m\u001b[43m \u001b[49m\u001b[38;5;28;43;01mif\u001b[39;49;00m\u001b[43m \u001b[49m\u001b[43mrun_manager\u001b[49m\u001b[43m \u001b[49m\u001b[38;5;28;43;01melse\u001b[39;49;00m\u001b[43m \u001b[49m\u001b[38;5;28;43;01mNone\u001b[39;49;00m\u001b[43m,\u001b[49m\n\u001b[32m    189\u001b[39m \u001b[43m        \u001b[49m\u001b[43m*\u001b[49m\u001b[43m*\u001b[49m\u001b[43minputs\u001b[49m\u001b[43m,\u001b[49m\n\u001b[32m    190\u001b[39m \u001b[43m    \u001b[49m\u001b[43m)\u001b[49m\n\u001b[32m    192\u001b[39m \u001b[38;5;28;01mexcept\u001b[39;00m OutputParserException \u001b[38;5;28;01mas\u001b[39;00m e:\n\u001b[32m    193\u001b[39m     \u001b[38;5;28;01mif\u001b[39;00m \u001b[38;5;28misinstance\u001b[39m(\u001b[38;5;28mself\u001b[39m.handle_parsing_errors, \u001b[38;5;28mbool\u001b[39m):\n",
      "\u001b[36mFile \u001b[39m\u001b[32m~\\AppData\\Local\\pypoetry\\Cache\\virtualenvs\\aws-sa-crew-jiuHyfR2-py3.12\\Lib\\site-packages\\langchain\\agents\\agent.py:397\u001b[39m, in \u001b[36mRunnableAgent.plan\u001b[39m\u001b[34m(self, intermediate_steps, callbacks, **kwargs)\u001b[39m\n\u001b[32m    389\u001b[39m final_output: Any = \u001b[38;5;28;01mNone\u001b[39;00m\n\u001b[32m    390\u001b[39m \u001b[38;5;28;01mif\u001b[39;00m \u001b[38;5;28mself\u001b[39m.stream_runnable:\n\u001b[32m    391\u001b[39m     \u001b[38;5;66;03m# Use streaming to make sure that the underlying LLM is invoked in a\u001b[39;00m\n\u001b[32m    392\u001b[39m     \u001b[38;5;66;03m# streaming\u001b[39;00m\n\u001b[32m   (...)\u001b[39m\u001b[32m    395\u001b[39m     \u001b[38;5;66;03m# Because the response from the plan is not a generator, we need to\u001b[39;00m\n\u001b[32m    396\u001b[39m     \u001b[38;5;66;03m# accumulate the output into final output and return that.\u001b[39;00m\n\u001b[32m--> \u001b[39m\u001b[32m397\u001b[39m \u001b[43m    \u001b[49m\u001b[38;5;28;43;01mfor\u001b[39;49;00m\u001b[43m \u001b[49m\u001b[43mchunk\u001b[49m\u001b[43m \u001b[49m\u001b[38;5;129;43;01min\u001b[39;49;00m\u001b[43m \u001b[49m\u001b[38;5;28;43mself\u001b[39;49m\u001b[43m.\u001b[49m\u001b[43mrunnable\u001b[49m\u001b[43m.\u001b[49m\u001b[43mstream\u001b[49m\u001b[43m(\u001b[49m\u001b[43minputs\u001b[49m\u001b[43m,\u001b[49m\u001b[43m \u001b[49m\u001b[43mconfig\u001b[49m\u001b[43m=\u001b[49m\u001b[43m{\u001b[49m\u001b[33;43m\"\u001b[39;49m\u001b[33;43mcallbacks\u001b[39;49m\u001b[33;43m\"\u001b[39;49m\u001b[43m:\u001b[49m\u001b[43m \u001b[49m\u001b[43mcallbacks\u001b[49m\u001b[43m}\u001b[49m\u001b[43m)\u001b[49m\u001b[43m:\u001b[49m\n\u001b[32m    398\u001b[39m \u001b[43m        \u001b[49m\u001b[38;5;28;43;01mif\u001b[39;49;00m\u001b[43m \u001b[49m\u001b[43mfinal_output\u001b[49m\u001b[43m \u001b[49m\u001b[38;5;129;43;01mis\u001b[39;49;00m\u001b[43m \u001b[49m\u001b[38;5;28;43;01mNone\u001b[39;49;00m\u001b[43m:\u001b[49m\n\u001b[32m    399\u001b[39m \u001b[43m            \u001b[49m\u001b[43mfinal_output\u001b[49m\u001b[43m \u001b[49m\u001b[43m=\u001b[49m\u001b[43m \u001b[49m\u001b[43mchunk\u001b[49m\n",
      "\u001b[36mFile \u001b[39m\u001b[32m~\\AppData\\Local\\pypoetry\\Cache\\virtualenvs\\aws-sa-crew-jiuHyfR2-py3.12\\Lib\\site-packages\\langchain_core\\runnables\\base.py:2875\u001b[39m, in \u001b[36mRunnableSequence.stream\u001b[39m\u001b[34m(self, input, config, **kwargs)\u001b[39m\n\u001b[32m   2869\u001b[39m \u001b[38;5;28;01mdef\u001b[39;00m\u001b[38;5;250m \u001b[39m\u001b[34mstream\u001b[39m(\n\u001b[32m   2870\u001b[39m     \u001b[38;5;28mself\u001b[39m,\n\u001b[32m   2871\u001b[39m     \u001b[38;5;28minput\u001b[39m: Input,\n\u001b[32m   2872\u001b[39m     config: Optional[RunnableConfig] = \u001b[38;5;28;01mNone\u001b[39;00m,\n\u001b[32m   2873\u001b[39m     **kwargs: Optional[Any],\n\u001b[32m   2874\u001b[39m ) -> Iterator[Output]:\n\u001b[32m-> \u001b[39m\u001b[32m2875\u001b[39m     \u001b[38;5;28;01myield from\u001b[39;00m \u001b[38;5;28mself\u001b[39m.transform(\u001b[38;5;28miter\u001b[39m([\u001b[38;5;28minput\u001b[39m]), config, **kwargs)\n",
      "\u001b[36mFile \u001b[39m\u001b[32m~\\AppData\\Local\\pypoetry\\Cache\\virtualenvs\\aws-sa-crew-jiuHyfR2-py3.12\\Lib\\site-packages\\langchain_core\\runnables\\base.py:2862\u001b[39m, in \u001b[36mRunnableSequence.transform\u001b[39m\u001b[34m(self, input, config, **kwargs)\u001b[39m\n\u001b[32m   2856\u001b[39m \u001b[38;5;28;01mdef\u001b[39;00m\u001b[38;5;250m \u001b[39m\u001b[34mtransform\u001b[39m(\n\u001b[32m   2857\u001b[39m     \u001b[38;5;28mself\u001b[39m,\n\u001b[32m   2858\u001b[39m     \u001b[38;5;28minput\u001b[39m: Iterator[Input],\n\u001b[32m   2859\u001b[39m     config: Optional[RunnableConfig] = \u001b[38;5;28;01mNone\u001b[39;00m,\n\u001b[32m   2860\u001b[39m     **kwargs: Optional[Any],\n\u001b[32m   2861\u001b[39m ) -> Iterator[Output]:\n\u001b[32m-> \u001b[39m\u001b[32m2862\u001b[39m     \u001b[38;5;28;01myield from\u001b[39;00m \u001b[38;5;28mself\u001b[39m._transform_stream_with_config(\n\u001b[32m   2863\u001b[39m         \u001b[38;5;28minput\u001b[39m,\n\u001b[32m   2864\u001b[39m         \u001b[38;5;28mself\u001b[39m._transform,\n\u001b[32m   2865\u001b[39m         patch_config(config, run_name=(config \u001b[38;5;129;01mor\u001b[39;00m {}).get(\u001b[33m\"\u001b[39m\u001b[33mrun_name\u001b[39m\u001b[33m\"\u001b[39m) \u001b[38;5;129;01mor\u001b[39;00m \u001b[38;5;28mself\u001b[39m.name),\n\u001b[32m   2866\u001b[39m         **kwargs,\n\u001b[32m   2867\u001b[39m     )\n",
      "\u001b[36mFile \u001b[39m\u001b[32m~\\AppData\\Local\\pypoetry\\Cache\\virtualenvs\\aws-sa-crew-jiuHyfR2-py3.12\\Lib\\site-packages\\langchain_core\\runnables\\base.py:1881\u001b[39m, in \u001b[36mRunnable._transform_stream_with_config\u001b[39m\u001b[34m(self, input, transformer, config, run_type, **kwargs)\u001b[39m\n\u001b[32m   1879\u001b[39m \u001b[38;5;28;01mtry\u001b[39;00m:\n\u001b[32m   1880\u001b[39m     \u001b[38;5;28;01mwhile\u001b[39;00m \u001b[38;5;28;01mTrue\u001b[39;00m:\n\u001b[32m-> \u001b[39m\u001b[32m1881\u001b[39m         chunk: Output = \u001b[43mcontext\u001b[49m\u001b[43m.\u001b[49m\u001b[43mrun\u001b[49m\u001b[43m(\u001b[49m\u001b[38;5;28;43mnext\u001b[39;49m\u001b[43m,\u001b[49m\u001b[43m \u001b[49m\u001b[43miterator\u001b[49m\u001b[43m)\u001b[49m  \u001b[38;5;66;03m# type: ignore\u001b[39;00m\n\u001b[32m   1882\u001b[39m         \u001b[38;5;28;01myield\u001b[39;00m chunk\n\u001b[32m   1883\u001b[39m         \u001b[38;5;28;01mif\u001b[39;00m final_output_supported:\n",
      "\u001b[36mFile \u001b[39m\u001b[32m~\\AppData\\Local\\pypoetry\\Cache\\virtualenvs\\aws-sa-crew-jiuHyfR2-py3.12\\Lib\\site-packages\\langchain_core\\runnables\\base.py:2826\u001b[39m, in \u001b[36mRunnableSequence._transform\u001b[39m\u001b[34m(self, input, run_manager, config)\u001b[39m\n\u001b[32m   2817\u001b[39m \u001b[38;5;28;01mfor\u001b[39;00m step \u001b[38;5;129;01min\u001b[39;00m steps:\n\u001b[32m   2818\u001b[39m     final_pipeline = step.transform(\n\u001b[32m   2819\u001b[39m         final_pipeline,\n\u001b[32m   2820\u001b[39m         patch_config(\n\u001b[32m   (...)\u001b[39m\u001b[32m   2823\u001b[39m         ),\n\u001b[32m   2824\u001b[39m     )\n\u001b[32m-> \u001b[39m\u001b[32m2826\u001b[39m \u001b[43m\u001b[49m\u001b[38;5;28;43;01mfor\u001b[39;49;00m\u001b[43m \u001b[49m\u001b[43moutput\u001b[49m\u001b[43m \u001b[49m\u001b[38;5;129;43;01min\u001b[39;49;00m\u001b[43m \u001b[49m\u001b[43mfinal_pipeline\u001b[49m\u001b[43m:\u001b[49m\n\u001b[32m   2827\u001b[39m \u001b[43m    \u001b[49m\u001b[38;5;28;43;01myield\u001b[39;49;00m\u001b[43m \u001b[49m\u001b[43moutput\u001b[49m\n",
      "\u001b[36mFile \u001b[39m\u001b[32m~\\AppData\\Local\\pypoetry\\Cache\\virtualenvs\\aws-sa-crew-jiuHyfR2-py3.12\\Lib\\site-packages\\langchain_core\\runnables\\base.py:1282\u001b[39m, in \u001b[36mRunnable.transform\u001b[39m\u001b[34m(self, input, config, **kwargs)\u001b[39m\n\u001b[32m   1279\u001b[39m final: Input\n\u001b[32m   1280\u001b[39m got_first_val = \u001b[38;5;28;01mFalse\u001b[39;00m\n\u001b[32m-> \u001b[39m\u001b[32m1282\u001b[39m \u001b[43m\u001b[49m\u001b[38;5;28;43;01mfor\u001b[39;49;00m\u001b[43m \u001b[49m\u001b[43michunk\u001b[49m\u001b[43m \u001b[49m\u001b[38;5;129;43;01min\u001b[39;49;00m\u001b[43m \u001b[49m\u001b[38;5;28;43minput\u001b[39;49m\u001b[43m:\u001b[49m\n\u001b[32m   1283\u001b[39m \u001b[43m    \u001b[49m\u001b[38;5;66;43;03m# The default implementation of transform is to buffer input and\u001b[39;49;00m\n\u001b[32m   1284\u001b[39m \u001b[43m    \u001b[49m\u001b[38;5;66;43;03m# then call stream.\u001b[39;49;00m\n\u001b[32m   1285\u001b[39m \u001b[43m    \u001b[49m\u001b[38;5;66;43;03m# It'll attempt to gather all input into a single chunk using\u001b[39;49;00m\n\u001b[32m   1286\u001b[39m \u001b[43m    \u001b[49m\u001b[38;5;66;43;03m# the `+` operator.\u001b[39;49;00m\n\u001b[32m   1287\u001b[39m \u001b[43m    \u001b[49m\u001b[38;5;66;43;03m# If the input is not addable, then we'll assume that we can\u001b[39;49;00m\n\u001b[32m   1288\u001b[39m \u001b[43m    \u001b[49m\u001b[38;5;66;43;03m# only operate on the last chunk,\u001b[39;49;00m\n\u001b[32m   1289\u001b[39m \u001b[43m    \u001b[49m\u001b[38;5;66;43;03m# and we'll iterate until we get to the last chunk.\u001b[39;49;00m\n\u001b[32m   1290\u001b[39m \u001b[43m    \u001b[49m\u001b[38;5;28;43;01mif\u001b[39;49;00m\u001b[43m \u001b[49m\u001b[38;5;129;43;01mnot\u001b[39;49;00m\u001b[43m \u001b[49m\u001b[43mgot_first_val\u001b[49m\u001b[43m:\u001b[49m\n\u001b[32m   1291\u001b[39m \u001b[43m        \u001b[49m\u001b[43mfinal\u001b[49m\u001b[43m \u001b[49m\u001b[43m=\u001b[49m\u001b[43m \u001b[49m\u001b[43michunk\u001b[49m\n",
      "\u001b[36mFile \u001b[39m\u001b[32m~\\AppData\\Local\\pypoetry\\Cache\\virtualenvs\\aws-sa-crew-jiuHyfR2-py3.12\\Lib\\site-packages\\langchain_core\\runnables\\base.py:4736\u001b[39m, in \u001b[36mRunnableBindingBase.transform\u001b[39m\u001b[34m(self, input, config, **kwargs)\u001b[39m\n\u001b[32m   4730\u001b[39m \u001b[38;5;28;01mdef\u001b[39;00m\u001b[38;5;250m \u001b[39m\u001b[34mtransform\u001b[39m(\n\u001b[32m   4731\u001b[39m     \u001b[38;5;28mself\u001b[39m,\n\u001b[32m   4732\u001b[39m     \u001b[38;5;28minput\u001b[39m: Iterator[Input],\n\u001b[32m   4733\u001b[39m     config: Optional[RunnableConfig] = \u001b[38;5;28;01mNone\u001b[39;00m,\n\u001b[32m   4734\u001b[39m     **kwargs: Any,\n\u001b[32m   4735\u001b[39m ) -> Iterator[Output]:\n\u001b[32m-> \u001b[39m\u001b[32m4736\u001b[39m     \u001b[38;5;28;01myield from\u001b[39;00m \u001b[38;5;28mself\u001b[39m.bound.transform(\n\u001b[32m   4737\u001b[39m         \u001b[38;5;28minput\u001b[39m,\n\u001b[32m   4738\u001b[39m         \u001b[38;5;28mself\u001b[39m._merge_configs(config),\n\u001b[32m   4739\u001b[39m         **{**\u001b[38;5;28mself\u001b[39m.kwargs, **kwargs},\n\u001b[32m   4740\u001b[39m     )\n",
      "\u001b[36mFile \u001b[39m\u001b[32m~\\AppData\\Local\\pypoetry\\Cache\\virtualenvs\\aws-sa-crew-jiuHyfR2-py3.12\\Lib\\site-packages\\langchain_core\\runnables\\base.py:1300\u001b[39m, in \u001b[36mRunnable.transform\u001b[39m\u001b[34m(self, input, config, **kwargs)\u001b[39m\n\u001b[32m   1297\u001b[39m             final = ichunk\n\u001b[32m   1299\u001b[39m \u001b[38;5;28;01mif\u001b[39;00m got_first_val:\n\u001b[32m-> \u001b[39m\u001b[32m1300\u001b[39m     \u001b[38;5;28;01myield from\u001b[39;00m \u001b[38;5;28mself\u001b[39m.stream(final, config, **kwargs)\n",
      "\u001b[36mFile \u001b[39m\u001b[32m~\\AppData\\Local\\pypoetry\\Cache\\virtualenvs\\aws-sa-crew-jiuHyfR2-py3.12\\Lib\\site-packages\\langchain_core\\language_models\\chat_models.py:249\u001b[39m, in \u001b[36mBaseChatModel.stream\u001b[39m\u001b[34m(self, input, config, stop, **kwargs)\u001b[39m\n\u001b[32m    242\u001b[39m \u001b[38;5;28;01mexcept\u001b[39;00m \u001b[38;5;167;01mBaseException\u001b[39;00m \u001b[38;5;28;01mas\u001b[39;00m e:\n\u001b[32m    243\u001b[39m     run_manager.on_llm_error(\n\u001b[32m    244\u001b[39m         e,\n\u001b[32m    245\u001b[39m         response=LLMResult(\n\u001b[32m    246\u001b[39m             generations=[[generation]] \u001b[38;5;28;01mif\u001b[39;00m generation \u001b[38;5;28;01melse\u001b[39;00m []\n\u001b[32m    247\u001b[39m         ),\n\u001b[32m    248\u001b[39m     )\n\u001b[32m--> \u001b[39m\u001b[32m249\u001b[39m     \u001b[38;5;28;01mraise\u001b[39;00m e\n\u001b[32m    250\u001b[39m \u001b[38;5;28;01melse\u001b[39;00m:\n\u001b[32m    251\u001b[39m     run_manager.on_llm_end(LLMResult(generations=[[generation]]))\n",
      "\u001b[36mFile \u001b[39m\u001b[32m~\\AppData\\Local\\pypoetry\\Cache\\virtualenvs\\aws-sa-crew-jiuHyfR2-py3.12\\Lib\\site-packages\\langchain_core\\language_models\\chat_models.py:233\u001b[39m, in \u001b[36mBaseChatModel.stream\u001b[39m\u001b[34m(self, input, config, stop, **kwargs)\u001b[39m\n\u001b[32m    231\u001b[39m     chunk.message.id = \u001b[33mf\u001b[39m\u001b[33m\"\u001b[39m\u001b[33mrun-\u001b[39m\u001b[38;5;132;01m{\u001b[39;00mrun_manager.run_id\u001b[38;5;132;01m}\u001b[39;00m\u001b[33m\"\u001b[39m\n\u001b[32m    232\u001b[39m chunk.message.response_metadata = _gen_info_and_msg_metadata(chunk)\n\u001b[32m--> \u001b[39m\u001b[32m233\u001b[39m \u001b[43mrun_manager\u001b[49m\u001b[43m.\u001b[49m\u001b[43mon_llm_new_token\u001b[49m\u001b[43m(\u001b[49m\n\u001b[32m    234\u001b[39m \u001b[43m    \u001b[49m\u001b[43mcast\u001b[49m\u001b[43m(\u001b[49m\u001b[38;5;28;43mstr\u001b[39;49m\u001b[43m,\u001b[49m\u001b[43m \u001b[49m\u001b[43mchunk\u001b[49m\u001b[43m.\u001b[49m\u001b[43mmessage\u001b[49m\u001b[43m.\u001b[49m\u001b[43mcontent\u001b[49m\u001b[43m)\u001b[49m\u001b[43m,\u001b[49m\u001b[43m \u001b[49m\u001b[43mchunk\u001b[49m\u001b[43m=\u001b[49m\u001b[43mchunk\u001b[49m\n\u001b[32m    235\u001b[39m \u001b[43m\u001b[49m\u001b[43m)\u001b[49m\n\u001b[32m    236\u001b[39m \u001b[38;5;28;01myield\u001b[39;00m chunk.message\n\u001b[32m    237\u001b[39m \u001b[38;5;28;01mif\u001b[39;00m generation \u001b[38;5;129;01mis\u001b[39;00m \u001b[38;5;28;01mNone\u001b[39;00m:\n",
      "\u001b[36mFile \u001b[39m\u001b[32m~\\AppData\\Local\\pypoetry\\Cache\\virtualenvs\\aws-sa-crew-jiuHyfR2-py3.12\\Lib\\site-packages\\langchain_core\\callbacks\\manager.py:642\u001b[39m, in \u001b[36mCallbackManagerForLLMRun.on_llm_new_token\u001b[39m\u001b[34m(self, token, chunk, **kwargs)\u001b[39m\n\u001b[32m    630\u001b[39m \u001b[38;5;28;01mdef\u001b[39;00m\u001b[38;5;250m \u001b[39m\u001b[34mon_llm_new_token\u001b[39m(\n\u001b[32m    631\u001b[39m     \u001b[38;5;28mself\u001b[39m,\n\u001b[32m    632\u001b[39m     token: \u001b[38;5;28mstr\u001b[39m,\n\u001b[32m   (...)\u001b[39m\u001b[32m    635\u001b[39m     **kwargs: Any,\n\u001b[32m    636\u001b[39m ) -> \u001b[38;5;28;01mNone\u001b[39;00m:\n\u001b[32m    637\u001b[39m \u001b[38;5;250m    \u001b[39m\u001b[33;03m\"\"\"Run when LLM generates a new token.\u001b[39;00m\n\u001b[32m    638\u001b[39m \n\u001b[32m    639\u001b[39m \u001b[33;03m    Args:\u001b[39;00m\n\u001b[32m    640\u001b[39m \u001b[33;03m        token (str): The new token.\u001b[39;00m\n\u001b[32m    641\u001b[39m \u001b[33;03m    \"\"\"\u001b[39;00m\n\u001b[32m--> \u001b[39m\u001b[32m642\u001b[39m     \u001b[43mhandle_event\u001b[49m\u001b[43m(\u001b[49m\n\u001b[32m    643\u001b[39m \u001b[43m        \u001b[49m\u001b[38;5;28;43mself\u001b[39;49m\u001b[43m.\u001b[49m\u001b[43mhandlers\u001b[49m\u001b[43m,\u001b[49m\n\u001b[32m    644\u001b[39m \u001b[43m        \u001b[49m\u001b[33;43m\"\u001b[39;49m\u001b[33;43mon_llm_new_token\u001b[39;49m\u001b[33;43m\"\u001b[39;49m\u001b[43m,\u001b[49m\n\u001b[32m    645\u001b[39m \u001b[43m        \u001b[49m\u001b[33;43m\"\u001b[39;49m\u001b[33;43mignore_llm\u001b[39;49m\u001b[33;43m\"\u001b[39;49m\u001b[43m,\u001b[49m\n\u001b[32m    646\u001b[39m \u001b[43m        \u001b[49m\u001b[43mtoken\u001b[49m\u001b[43m=\u001b[49m\u001b[43mtoken\u001b[49m\u001b[43m,\u001b[49m\n\u001b[32m    647\u001b[39m \u001b[43m        \u001b[49m\u001b[43mrun_id\u001b[49m\u001b[43m=\u001b[49m\u001b[38;5;28;43mself\u001b[39;49m\u001b[43m.\u001b[49m\u001b[43mrun_id\u001b[49m\u001b[43m,\u001b[49m\n\u001b[32m    648\u001b[39m \u001b[43m        \u001b[49m\u001b[43mparent_run_id\u001b[49m\u001b[43m=\u001b[49m\u001b[38;5;28;43mself\u001b[39;49m\u001b[43m.\u001b[49m\u001b[43mparent_run_id\u001b[49m\u001b[43m,\u001b[49m\n\u001b[32m    649\u001b[39m \u001b[43m        \u001b[49m\u001b[43mtags\u001b[49m\u001b[43m=\u001b[49m\u001b[38;5;28;43mself\u001b[39;49m\u001b[43m.\u001b[49m\u001b[43mtags\u001b[49m\u001b[43m,\u001b[49m\n\u001b[32m    650\u001b[39m \u001b[43m        \u001b[49m\u001b[43mchunk\u001b[49m\u001b[43m=\u001b[49m\u001b[43mchunk\u001b[49m\u001b[43m,\u001b[49m\n\u001b[32m    651\u001b[39m \u001b[43m        \u001b[49m\u001b[43m*\u001b[49m\u001b[43m*\u001b[49m\u001b[43mkwargs\u001b[49m\u001b[43m,\u001b[49m\n\u001b[32m    652\u001b[39m \u001b[43m    \u001b[49m\u001b[43m)\u001b[49m\n",
      "\u001b[36mFile \u001b[39m\u001b[32m~\\AppData\\Local\\pypoetry\\Cache\\virtualenvs\\aws-sa-crew-jiuHyfR2-py3.12\\Lib\\site-packages\\langchain_core\\callbacks\\manager.py:303\u001b[39m, in \u001b[36mhandle_event\u001b[39m\u001b[34m(handlers, event_name, ignore_condition_name, *args, **kwargs)\u001b[39m\n\u001b[32m    297\u001b[39m \u001b[38;5;28;01mif\u001b[39;00m loop_running:\n\u001b[32m    298\u001b[39m     \u001b[38;5;66;03m# If we try to submit this coroutine to the running loop\u001b[39;00m\n\u001b[32m    299\u001b[39m     \u001b[38;5;66;03m# we end up in a deadlock, as we'd have gotten here from a\u001b[39;00m\n\u001b[32m    300\u001b[39m     \u001b[38;5;66;03m# running coroutine, which we cannot interrupt to run this one.\u001b[39;00m\n\u001b[32m    301\u001b[39m     \u001b[38;5;66;03m# The solution is to create a new loop in a new thread.\u001b[39;00m\n\u001b[32m    302\u001b[39m     \u001b[38;5;28;01mwith\u001b[39;00m ThreadPoolExecutor(\u001b[32m1\u001b[39m) \u001b[38;5;28;01mas\u001b[39;00m executor:\n\u001b[32m--> \u001b[39m\u001b[32m303\u001b[39m         \u001b[43mexecutor\u001b[49m\u001b[43m.\u001b[49m\u001b[43msubmit\u001b[49m\u001b[43m(\u001b[49m\n\u001b[32m    304\u001b[39m \u001b[43m            \u001b[49m\u001b[43mcast\u001b[49m\u001b[43m(\u001b[49m\u001b[43mCallable\u001b[49m\u001b[43m,\u001b[49m\u001b[43m \u001b[49m\u001b[43mcopy_context\u001b[49m\u001b[43m(\u001b[49m\u001b[43m)\u001b[49m\u001b[43m.\u001b[49m\u001b[43mrun\u001b[49m\u001b[43m)\u001b[49m\u001b[43m,\u001b[49m\u001b[43m \u001b[49m\u001b[43m_run_coros\u001b[49m\u001b[43m,\u001b[49m\u001b[43m \u001b[49m\u001b[43mcoros\u001b[49m\n\u001b[32m    305\u001b[39m \u001b[43m        \u001b[49m\u001b[43m)\u001b[49m.result()\n\u001b[32m    306\u001b[39m \u001b[38;5;28;01melse\u001b[39;00m:\n\u001b[32m    307\u001b[39m     _run_coros(coros)\n",
      "\u001b[36mFile \u001b[39m\u001b[32m~\\AppData\\Local\\Programs\\Python\\Python312\\Lib\\concurrent\\futures\\thread.py:180\u001b[39m, in \u001b[36mThreadPoolExecutor.submit\u001b[39m\u001b[34m(self, fn, *args, **kwargs)\u001b[39m\n\u001b[32m    177\u001b[39m w = _WorkItem(f, fn, args, kwargs)\n\u001b[32m    179\u001b[39m \u001b[38;5;28mself\u001b[39m._work_queue.put(w)\n\u001b[32m--> \u001b[39m\u001b[32m180\u001b[39m \u001b[38;5;28;43mself\u001b[39;49m\u001b[43m.\u001b[49m\u001b[43m_adjust_thread_count\u001b[49m\u001b[43m(\u001b[49m\u001b[43m)\u001b[49m\n\u001b[32m    181\u001b[39m \u001b[38;5;28;01mreturn\u001b[39;00m f\n",
      "\u001b[36mFile \u001b[39m\u001b[32m~\\AppData\\Local\\Programs\\Python\\Python312\\Lib\\concurrent\\futures\\thread.py:203\u001b[39m, in \u001b[36mThreadPoolExecutor._adjust_thread_count\u001b[39m\u001b[34m(self)\u001b[39m\n\u001b[32m    196\u001b[39m thread_name = \u001b[33m'\u001b[39m\u001b[38;5;132;01m%s\u001b[39;00m\u001b[33m_\u001b[39m\u001b[38;5;132;01m%d\u001b[39;00m\u001b[33m'\u001b[39m % (\u001b[38;5;28mself\u001b[39m._thread_name_prefix \u001b[38;5;129;01mor\u001b[39;00m \u001b[38;5;28mself\u001b[39m,\n\u001b[32m    197\u001b[39m                          num_threads)\n\u001b[32m    198\u001b[39m t = threading.Thread(name=thread_name, target=_worker,\n\u001b[32m    199\u001b[39m                      args=(weakref.ref(\u001b[38;5;28mself\u001b[39m, weakref_cb),\n\u001b[32m    200\u001b[39m                            \u001b[38;5;28mself\u001b[39m._work_queue,\n\u001b[32m    201\u001b[39m                            \u001b[38;5;28mself\u001b[39m._initializer,\n\u001b[32m    202\u001b[39m                            \u001b[38;5;28mself\u001b[39m._initargs))\n\u001b[32m--> \u001b[39m\u001b[32m203\u001b[39m \u001b[43mt\u001b[49m\u001b[43m.\u001b[49m\u001b[43mstart\u001b[49m\u001b[43m(\u001b[49m\u001b[43m)\u001b[49m\n\u001b[32m    204\u001b[39m \u001b[38;5;28mself\u001b[39m._threads.add(t)\n\u001b[32m    205\u001b[39m _threads_queues[t] = \u001b[38;5;28mself\u001b[39m._work_queue\n",
      "\u001b[36mFile \u001b[39m\u001b[32m~\\AppData\\Local\\Programs\\Python\\Python312\\Lib\\threading.py:999\u001b[39m, in \u001b[36mThread.start\u001b[39m\u001b[34m(self)\u001b[39m\n\u001b[32m    997\u001b[39m         \u001b[38;5;28;01mdel\u001b[39;00m _limbo[\u001b[38;5;28mself\u001b[39m]\n\u001b[32m    998\u001b[39m     \u001b[38;5;28;01mraise\u001b[39;00m\n\u001b[32m--> \u001b[39m\u001b[32m999\u001b[39m \u001b[38;5;28;43mself\u001b[39;49m\u001b[43m.\u001b[49m\u001b[43m_started\u001b[49m\u001b[43m.\u001b[49m\u001b[43mwait\u001b[49m\u001b[43m(\u001b[49m\u001b[43m)\u001b[49m\n",
      "\u001b[36mFile \u001b[39m\u001b[32m~\\AppData\\Local\\Programs\\Python\\Python312\\Lib\\threading.py:655\u001b[39m, in \u001b[36mEvent.wait\u001b[39m\u001b[34m(self, timeout)\u001b[39m\n\u001b[32m    653\u001b[39m signaled = \u001b[38;5;28mself\u001b[39m._flag\n\u001b[32m    654\u001b[39m \u001b[38;5;28;01mif\u001b[39;00m \u001b[38;5;129;01mnot\u001b[39;00m signaled:\n\u001b[32m--> \u001b[39m\u001b[32m655\u001b[39m     signaled = \u001b[38;5;28;43mself\u001b[39;49m\u001b[43m.\u001b[49m\u001b[43m_cond\u001b[49m\u001b[43m.\u001b[49m\u001b[43mwait\u001b[49m\u001b[43m(\u001b[49m\u001b[43mtimeout\u001b[49m\u001b[43m)\u001b[49m\n\u001b[32m    656\u001b[39m \u001b[38;5;28;01mreturn\u001b[39;00m signaled\n",
      "\u001b[36mFile \u001b[39m\u001b[32m~\\AppData\\Local\\Programs\\Python\\Python312\\Lib\\threading.py:355\u001b[39m, in \u001b[36mCondition.wait\u001b[39m\u001b[34m(self, timeout)\u001b[39m\n\u001b[32m    353\u001b[39m \u001b[38;5;28;01mtry\u001b[39;00m:    \u001b[38;5;66;03m# restore state no matter what (e.g., KeyboardInterrupt)\u001b[39;00m\n\u001b[32m    354\u001b[39m     \u001b[38;5;28;01mif\u001b[39;00m timeout \u001b[38;5;129;01mis\u001b[39;00m \u001b[38;5;28;01mNone\u001b[39;00m:\n\u001b[32m--> \u001b[39m\u001b[32m355\u001b[39m         \u001b[43mwaiter\u001b[49m\u001b[43m.\u001b[49m\u001b[43macquire\u001b[49m\u001b[43m(\u001b[49m\u001b[43m)\u001b[49m\n\u001b[32m    356\u001b[39m         gotit = \u001b[38;5;28;01mTrue\u001b[39;00m\n\u001b[32m    357\u001b[39m     \u001b[38;5;28;01melse\u001b[39;00m:\n",
      "\u001b[31mKeyboardInterrupt\u001b[39m: "
     ]
    }
   ],
   "source": [
    "user_requirements = {\n",
    "    'cost_profile': \"Cost-Optimized\",\n",
    "    'scalability': \"Medium\",\n",
    "    'ease_of_implementation': \"Easy\",\n",
    "    'integration_complexity': \"Moderate\",\n",
    "    'required_expertise': \"Intermediate\",\n",
    "    'use_case': \"AI-powered customer support chatbot\",\n",
    "    'security_tier': \"Enterprise\",\n",
    "    'performance': \"High Performance\",\n",
    "    'availability': \"High Availability (multi-region)\",\n",
    "    'compliance': [\"GDPR\", \"HIPAA\"],\n",
    "    'implementation_time': \"Short (days)\"\n",
    "}\n",
    "\n",
    "crew.kickoff(inputs=user_requirements)"
   ]
  }
 ],
 "metadata": {
  "kernelspec": {
   "display_name": "Python 3 (ipykernel)",
   "language": "python",
   "name": "python3"
  },
  "language_info": {
   "codemirror_mode": {
    "name": "ipython",
    "version": 3
   },
   "file_extension": ".py",
   "mimetype": "text/x-python",
   "name": "python",
   "nbconvert_exporter": "python",
   "pygments_lexer": "ipython3",
   "version": "3.12.9"
  }
 },
 "nbformat": 4,
 "nbformat_minor": 2
}
