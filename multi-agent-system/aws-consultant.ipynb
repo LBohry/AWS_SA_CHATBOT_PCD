{
 "cells": [
  {
   "cell_type": "code",
   "execution_count": null,
   "metadata": {
    "vscode": {
     "languageId": "plaintext"
    }
   },
   "outputs": [],
   "source": [
    "import sys\n",
    "import os\n",
    "from crewai import Process, Crew, Agent, Task\n",
    "from crewai_tools import BaseTool, SerperDevTool\n",
    "import requests\n",
    "from dotenv import load_dotenv\n",
    "from langchain_openai import ChatOpenAI"
   ]
  },
  {
   "cell_type": "code",
   "execution_count": null,
   "metadata": {
    "vscode": {
     "languageId": "plaintext"
    }
   },
   "outputs": [],
   "source": [
    "load_dotenv()\n",
    "search_tool = SerperDevTool()"
   ]
  },
  {
   "cell_type": "markdown",
   "metadata": {},
   "source": [
    "1. Knowledge Retrieval Agent"
   ]
  },
  {
   "cell_type": "code",
   "execution_count": null,
   "metadata": {
    "vscode": {
     "languageId": "plaintext"
    }
   },
   "outputs": [],
   "source": [
    "knowledge_agent = Agent(\n",
    "    role=\"AWS Documentation Specialist\",\n",
    "    goal=\"Retrieve and synthesize comprehensive AWS documentation tailored specifically to the user's requirements and use case\",\n",
    "    backstory=(\n",
    "        \"You are an AWS certified Solutions Architect with 10+ years of experience specializing in AWS documentation. \"\n",
    "        \"You have an encyclopedic knowledge of AWS services, their limitations, integration patterns, and best practices. \"\n",
    "        \"Your primary responsibility is to extract actionable insights from AWS documentation, white papers, implementation guides, \"\n",
    "        \"and reference architectures that specifically address the user's use case requirements. \"\n",
    "        \"You understand the subtle technical distinctions between similar AWS services and which are optimal for specific scenarios. \"\n",
    "        \"You're not just a documentation retriever but a documentation curator who knows what information is most critical \"\n",
    "        \"for implementation success in the specific domain of the user's needs.\"\n",
    "    ),\n",
    "    allow_delegation=False,\n",
    "    verbose=True,\n",
    ")"
   ]
  },
  {
   "cell_type": "markdown",
   "metadata": {},
   "source": [
    "2. Industry Solutions Expert Agent "
   ]
  },
  {
   "cell_type": "code",
   "execution_count": null,
   "metadata": {
    "vscode": {
     "languageId": "plaintext"
    }
   },
   "outputs": [],
   "source": [
    "industry_solutions_agent = Agent(\n",
    "    role=\"Industry Solutions Expert\",\n",
    "    goal=\"Identify industry-specific AWS patterns and real-world case studies that align with the user's use case\",\n",
    "    backstory=(\n",
    "        \"You are an AWS Technical Account Manager with experience across multiple industries, specializing in translating \"\n",
    "        \"business requirements into technical solutions. Your expertise lies in identifying proven AWS implementation patterns \"\n",
    "        \"for specific use cases from AWS's library of case studies, partner solutions, and the AWS Solutions Library. \"\n",
    "        \"You focus on extracting the detailed architectural components from these solutions and understanding how they were \"\n",
    "        \"implemented to meet specific industry challenges. Rather than just naming services, you provide insight into the \"\n",
    "        \"exact configuration, integration patterns, and technical decisions that made these solutions successful.\"\n",
    "    ),\n",
    "    allow_delegation=True,\n",
    "    verbose=True,\n",
    ")"
   ]
  },
  {
   "cell_type": "markdown",
   "metadata": {},
   "source": [
    "3. Implementation Details Agent "
   ]
  },
  {
   "cell_type": "code",
   "execution_count": null,
   "metadata": {
    "vscode": {
     "languageId": "plaintext"
    }
   },
   "outputs": [],
   "source": [
    "implementation_details_agent = Agent(\n",
    "    role=\"Implementation Architect\",\n",
    "    goal=\"Convert high-level architecture components into detailed implementation specifications with code and configuration examples\",\n",
    "    backstory=(\n",
    "        \"You are a hands-on AWS implementation specialist who transforms architectural diagrams into executable code. \"\n",
    "        \"Your expertise is in Infrastructure as Code (CloudFormation, Terraform, CDK), AWS CLI commands, and AWS SDK implementations. \"\n",
    "        \"You specialize in searching GitHub repositories and AWS documentation for specific implementation patterns that match \"\n",
    "        \"the proposed architecture. Rather than simply finding examples, you adapt and enhance them to fit the user's specific requirements. \"\n",
    "        \"You provide explicit step-by-step implementation instructions, including actual code snippets, configuration files, and command sequences \"\n",
    "        \"needed to deploy the architecture. Your recommendations include details like IAM policies, network configurations, security groups, \"\n",
    "        \"and service-specific parameter optimizations that are essential for implementation.\"\n",
    "    ),\n",
    "    allow_delegation=True,\n",
    "    verbose=True,\n",
    ")"
   ]
  },
  {
   "cell_type": "markdown",
   "metadata": {},
   "source": [
    "4. Technical Constraints Specialist Agent"
   ]
  },
  {
   "cell_type": "code",
   "execution_count": null,
   "metadata": {
    "vscode": {
     "languageId": "plaintext"
    }
   },
   "outputs": [],
   "source": [
    "constraints_agent = Agent(\n",
    "    role=\"Technical Constraints Specialist\",\n",
    "    goal=\"Identify and document implementation limitations, quotas, integration challenges and their solutions\",\n",
    "    backstory=(\n",
    "        \"You are an AWS technical specialist who focuses exclusively on the practical limitations and edge cases \"\n",
    "        \"that impact real-world implementations. You have deep knowledge of AWS service quotas, integration constraints, \"\n",
    "        \"and known implementation challenges. You specialize in identifying potential bottlenecks, limitations, and technical \"\n",
    "        \"constraints that could affect the architecture, and providing specific workarounds or solutions for each issue. \"\n",
    "        \"Your expertise covers performance limitations, service quotas, API throttling concerns, cross-service integration challenges, \"\n",
    "        \"IAM permission boundaries, and region-specific limitations that are critical to implementation success but often \"\n",
    "        \"overlooked in high-level architecture documentation.\"\n",
    "    ),\n",
    "    allow_delegation=True,\n",
    "    verbose=True,\n",
    ")"
   ]
  },
  {
   "cell_type": "markdown",
   "metadata": {},
   "source": [
    "5. QA and Validation Agent"
   ]
  },
  {
   "cell_type": "code",
   "execution_count": null,
   "metadata": {
    "vscode": {
     "languageId": "plaintext"
    }
   },
   "outputs": [],
   "source": [
    "qa_validation_agent = Agent(\n",
    "    role=\"Solution Validation Expert\",\n",
    "    goal=\"Critically evaluate the proposed architecture against real-world implementation requirements and AWS best practices\",\n",
    "    backstory=(\n",
    "        \"You are a senior AWS consultant who specializes in pre-implementation validation and quality assurance. \"\n",
    "        \"Your responsibility is to identify gaps, contradictions, or suboptimal choices in proposed AWS architectures. \"\n",
    "        \"You leverage your experience from hundreds of AWS implementations to evaluate solutions against AWS's Well-Architected Framework, \"\n",
    "        \"but more importantly, against practical implementation considerations. For every component in the architecture, you verify that it \"\n",
    "        \"is the optimal choice given the specific requirements, budget constraints, and technical specifications. \"\n",
    "        \"You're not satisfied with generic 'best practices' - you provide specific, actionable feedback on how to improve \"\n",
    "        \"the architecture for real-world implementation, including alternative approaches that may better meet the requirements.\"\n",
    "    ),\n",
    "    allow_delegation=True,\n",
    "    verbose=True,\n",
    ")"
   ]
  },
  {
   "cell_type": "markdown",
   "metadata": {},
   "source": [
    "6. Final Architecture Synthesizer Agent"
   ]
  },
  {
   "cell_type": "code",
   "execution_count": null,
   "metadata": {
    "vscode": {
     "languageId": "plaintext"
    }
   },
   "outputs": [],
   "source": [
    "architecture_synthesizer = Agent(\n",
    "    role=\"Lead Solutions Architect\",\n",
    "    goal=\"Create a comprehensive, implementation-ready AWS architecture document with detailed deployment instructions\",\n",
    "    backstory=(\n",
    "        \"You are a senior AWS Solutions Architect with 15+ years of experience leading complex cloud implementations. \"\n",
    "        \"Your specialty is synthesizing inputs from multiple technical domains into coherent, executable implementation plans. \"\n",
    "        \"You understand that valuable architecture documentation must go beyond service selection to include comprehensive \"\n",
    "        \"deployment guidance, configuration details, and implementation steps. Your documentation includes detailed component \"\n",
    "        \"interactions, data flows, scaling mechanisms, security implementations, and operational considerations. \"\n",
    "        \"You bring a consultant's perspective to solution documentation - anticipating implementation challenges, providing \"\n",
    "        \"specific configuration guidance, and explaining architectural decisions with their trade-offs. Your solutions include \"\n",
    "        \"precise implementation steps that address the specific requirements of the use case with concrete examples and references.\"\n",
    "    ),\n",
    "    allow_delegation=False,\n",
    "    verbose=True,\n",
    ")"
   ]
  },
  {
   "cell_type": "markdown",
   "metadata": {},
   "source": [
    "Task 1: Knowledge Retrieval and Synthesis"
   ]
  },
  {
   "cell_type": "code",
   "execution_count": null,
   "metadata": {
    "vscode": {
     "languageId": "plaintext"
    }
   },
   "outputs": [],
   "source": [
    "task_knowledge_retrieval = Task(\n",
    "    description=(\n",
    "        \"Extract and synthesize AWS documentation specifically related to the user's use case. \"\n",
    "        \"Focus especially on the 'use_case' field in the requirements to guide your search. \"\n",
    "        \"Retrieve information about AWS services, best practices, reference architectures, and implementation guides \"\n",
    "        \"that specifically address this use case. \"\n",
    "        \"For each recommended service or component:\\n\"\n",
    "        \"1. Document its specific purpose in the architecture\\n\"\n",
    "        \"2. Detail integration points with other services\\n\"\n",
    "        \"3. Identify configuration options specifically relevant to the use case\\n\"\n",
    "        \"4. Note any service limitations or quotas that might impact implementation\\n\"\n",
    "        \"Your output should be structured as a comprehensive knowledge base that can be directly used to create the implementation architecture.\"\n",
    "    ),\n",
    "    expected_output=(\n",
    "        \"A structured knowledge base document that includes:\\n\"\n",
    "        \"- Core AWS services recommended for the use case with specific justifications\\n\"\n",
    "        \"- Detailed integration patterns between services\\n\"\n",
    "        \"- Configuration parameters that need to be set for each service\\n\"\n",
    "        \"- Implementation considerations specific to the requirements\\n\"\n",
    "        \"- Direct references to AWS documentation and guides\"\n",
    "    ),\n",
    "    agent=knowledge_agent,\n",
    "    tools=[search_tool],\n",
    ")"
   ]
  },
  {
   "cell_type": "markdown",
   "metadata": {},
   "source": [
    "Task 2: Industry Solutions Analysis"
   ]
  },
  {
   "cell_type": "code",
   "execution_count": null,
   "metadata": {
    "vscode": {
     "languageId": "plaintext"
    }
   },
   "outputs": [],
   "source": [
    "task_industry_solutions = Task(\n",
    "    description=(\n",
    "        \"Research and analyze AWS reference architectures, case studies, and partner solutions that specifically address \"\n",
    "        \"the user's use case. Focus on extracting the specific technical implementation details rather than just high-level patterns. \"\n",
    "        \"For each relevant case study or reference architecture:\\n\"\n",
    "        \"1. Document the exact AWS services used and their specific configuration\\n\"\n",
    "        \"2. Detail how the solution addressed requirements similar to the user's (cost, scalability, security, etc.)\\n\"\n",
    "        \"3. Identify specific implementation decisions that were critical to the solution's success\\n\"\n",
    "        \"4. Note any lessons learned or optimizations that were made post-implementation\\n\"\n",
    "        \"Your output should provide concrete, implementable patterns that have been proven in real-world scenarios.\"\n",
    "    ),\n",
    "    expected_output=(\n",
    "        \"A detailed analysis of industry solutions that includes:\\n\"\n",
    "        \"- Specific implementations of the use case from AWS case studies\\n\"\n",
    "        \"- Technical architecture details from these implementations\\n\"\n",
    "        \"- Configuration choices made in these implementations\\n\"\n",
    "        \"- How these implementations addressed requirements similar to the user's\\n\"\n",
    "        \"- Specific implementation tips extracted from these real-world examples\"\n",
    "    ),\n",
    "    agent=industry_solutions_agent,\n",
    "    tools=[search_tool],\n",
    ")"
   ]
  },
  {
   "cell_type": "markdown",
   "metadata": {},
   "source": [
    "Task 3: Implementation Details Specification"
   ]
  },
  {
   "cell_type": "code",
   "execution_count": null,
   "metadata": {
    "vscode": {
     "languageId": "plaintext"
    }
   },
   "outputs": [],
   "source": [
    "task_implementation_details = Task(\n",
    "    description=(\n",
    "        \"Develop detailed implementation specifications for each component of the architecture. \"\n",
    "        \"Search GitHub repositories, AWS samples, and documentation for specific code examples and configuration files. \"\n",
    "        \"For each major component in the architecture:\\n\"\n",
    "        \"1. Provide actual infrastructure-as-code examples (CloudFormation, Terraform, or CDK)\\n\"\n",
    "        \"2. Include specific AWS CLI commands or SDK code snippets for setup and configuration\\n\"\n",
    "        \"3. Detail IAM policies, security group configurations, and other security-related settings\\n\"\n",
    "        \"4. Provide network configuration details, including VPC setup, subnet configuration, and routing\\n\"\n",
    "        \"5. Include service-specific parameter configurations optimized for the use case\\n\"\n",
    "        \"Your output should be structured as step-by-step implementation instructions with actual code that could be used to deploy the solution.\"\n",
    "    ),\n",
    "    expected_output=(\n",
    "        \"A detailed implementation guide that includes:\\n\"\n",
    "        \"- Infrastructure-as-code templates for major components\\n\"\n",
    "        \"- AWS CLI commands and SDK code snippets\\n\"\n",
    "        \"- Complete IAM policy documents\\n\"\n",
    "        \"- Security group configurations\\n\"\n",
    "        \"- Network configuration details\\n\"\n",
    "        \"- Service parameter settings\\n\"\n",
    "        \"- Step-by-step deployment instructions\"\n",
    "    ),\n",
    "    agent=implementation_details_agent,\n",
    "    tools=[search_tool],\n",
    ")"
   ]
  },
  {
   "cell_type": "markdown",
   "metadata": {},
   "source": [
    "Task 4: Technical Constraints Analysis"
   ]
  },
  {
   "cell_type": "code",
   "execution_count": null,
   "metadata": {
    "vscode": {
     "languageId": "plaintext"
    }
   },
   "outputs": [],
   "source": [
    "task_constraints_analysis = Task(\n",
    "    description=(\n",
    "        \"Identify and document all technical constraints, limitations, and potential implementation challenges \"\n",
    "        \"for the proposed architecture based on the user's requirements. For each component in the architecture:\\n\"\n",
    "        \"1. Document applicable service quotas and limits\\n\"\n",
    "        \"2. Identify potential performance bottlenecks and scaling limitations\\n\"\n",
    "        \"3. Detail integration challenges between services and their solutions\\n\"\n",
    "        \"4. Outline region-specific considerations based on availability requirements\\n\"\n",
    "        \"5. Document compliance-specific implementation requirements based on the user's compliance needs\\n\"\n",
    "        \"For each constraint or limitation identified, provide specific workarounds or solutions that can be implemented.\"\n",
    "    ),\n",
    "    expected_output=(\n",
    "        \"A comprehensive constraints analysis that includes:\\n\"\n",
    "        \"- Service quotas and limits for each component\\n\"\n",
    "        \"- Performance constraints and solutions\\n\"\n",
    "        \"- Integration challenges and their workarounds\\n\"\n",
    "        \"- Region-specific implementation details\\n\"\n",
    "        \"- Compliance-related technical considerations\\n\"\n",
    "        \"- Specific solutions and workarounds for each constraint\"\n",
    "    ),\n",
    "    agent=constraints_agent,\n",
    "    tools=[search_tool],\n",
    ")"
   ]
  },
  {
   "cell_type": "markdown",
   "metadata": {},
   "source": [
    "Task 5: Solution Validation and Enhancement"
   ]
  },
  {
   "cell_type": "code",
   "execution_count": null,
   "metadata": {
    "vscode": {
     "languageId": "plaintext"
    }
   },
   "outputs": [],
   "source": [
    "task_validation = Task(\n",
    "    description=(\n",
    "        \"Critically evaluate the proposed architecture against the user's specific requirements and AWS best practices. \"\n",
    "        \"For each component and design decision in the architecture:\\n\"\n",
    "        \"1. Verify alignment with the user's stated requirements (cost profile, scalability, security tier, etc.)\\n\"\n",
    "        \"2. Evaluate against the AWS Well-Architected Framework principles\\n\"\n",
    "        \"3. Identify any suboptimal choices or missed opportunities for service selection\\n\"\n",
    "        \"4. Suggest specific improvements or alternatives that better meet the requirements\\n\"\n",
    "        \"5. Validate that implementation details are complete and technically sound\\n\"\n",
    "        \"Provide specific, actionable feedback on how to improve the architecture for real-world implementation.\"\n",
    "    ),\n",
    "    expected_output=(\n",
    "        \"A detailed validation report that includes:\\n\"\n",
    "        \"- Analysis of how well each component meets the user's requirements\\n\"\n",
    "        \"- Well-Architected Framework evaluation\\n\"\n",
    "        \"- Identification of suboptimal choices or missed opportunities\\n\"\n",
    "        \"- Specific architectural improvements with justifications\\n\"\n",
    "        \"- Implementation detail verification\\n\"\n",
    "        \"- Actionable enhancements to improve the architecture\"\n",
    "    ),\n",
    "    agent=qa_validation_agent,\n",
    "    tools=[search_tool],\n",
    ")"
   ]
  },
  {
   "cell_type": "markdown",
   "metadata": {},
   "source": [
    "Task 6: Final Architecture Synthesis"
   ]
  },
  {
   "cell_type": "markdown",
   "metadata": {},
   "source": [
    "task_architecture_synthesis = Task(\n",
    "    description=(\n",
    "        \"Create a comprehensive, implementation-ready AWS architecture document that synthesizes all previous findings \"\n",
    "        \"into a cohesive solution tailored to the user's specific requirements. The document should include:\\n\"\n",
    "        \"1. Executive summary relating the architecture directly to the user's use case and requirements\\n\"\n",
    "        \"2. Detailed architecture diagram with all components and their interactions\\n\"\n",
    "        \"3. Component-by-component implementation specifications including:\\n\"\n",
    "        \"   a. Service configuration details\\n\"\n",
    "        \"   b. Integration specifications\\n\"\n",
    "        \"   c. Security implementations\\n\"\n",
    "        \"   d. Scaling mechanisms\\n\"\n",
    "        \"4. Step-by-step implementation plan with actual code examples and configuration files\\n\"\n",
    "        \"5. Implementation timeline and resource requirements\\n\"\n",
    "        \"6. Operational considerations and monitoring setup\\n\"\n",
    "        \"7. Cost estimation based on the user's usage patterns\\n\"\n",
    "        \"The document should be structured as a consultant's implementation guide that could be followed directly by the user.\"\n",
    "    ),\n",
    "    expected_output=(\n",
    "        \"A comprehensive AWS architecture implementation document that includes:\\n\"\n",
    "        \"- Executive summary\\n\"\n",
    "        \"- Detailed architecture diagram\\n\"\n",
    "        \"- Component-by-component specifications\\n\"\n",
    "        \"- Implementation code and configuration\\n\"\n",
    "        \"- Step-by-step deployment guide\\n\"\n",
    "        \"- Implementation timeline\\n\"\n",
    "        \"- Operational guidance\\n\"\n",
    "        \"- Cost estimation\\n\"\n",
    "        \"The document should be implementation-ready with sufficient detail for the user to deploy the solution.\"\n",
    "    ),\n",
    "    agent=architecture_synthesizer\n",
    ")"
   ]
  },
  {
   "cell_type": "code",
   "execution_count": null,
   "metadata": {
    "vscode": {
     "languageId": "plaintext"
    }
   },
   "outputs": [],
   "source": [
    "crew = Crew(\n",
    "    agents=[\n",
    "        knowledge_agent,\n",
    "        industry_solutions_agent,\n",
    "        implementation_details_agent,\n",
    "        constraints_agent,\n",
    "        qa_validation_agent,\n",
    "        architecture_synthesizer\n",
    "    ],\n",
    "    tasks=[\n",
    "        task_knowledge_retrieval,\n",
    "        task_industry_solutions,\n",
    "        task_implementation_details,\n",
    "        task_constraints_analysis,\n",
    "        task_validation,\n",
    "        task_architecture_synthesis\n",
    "    ],\n",
    "    process=Process.sequential,  # Ensures logical step-by-step execution\n",
    "    verbose=2,  # Set verbosity level for detailed logs during execution\n",
    ")"
   ]
  },
  {
   "cell_type": "code",
   "execution_count": null,
   "metadata": {
    "vscode": {
     "languageId": "plaintext"
    }
   },
   "outputs": [],
   "source": [
    "user_requirements = {\n",
    "    'cost_profile': \"Cost-Optimized\",\n",
    "    'scalability': \"Medium\",\n",
    "    'implementation': {\n",
    "        'ease': \"Easy\",\n",
    "        'integration': \"Moderate\",\n",
    "        'expertise': \"Intermediate\"\n",
    "    },\n",
    "    'use_case': \"AI-powered customer support chatbot\",\n",
    "    'security_tier': \"Enterprise\",\n",
    "    'performance': \"High Performance\",\n",
    "    'availability': \"High Availability (multi-region)\",\n",
    "    'compliance': [\"GDPR\", \"HIPAA\"],\n",
    "    'implementation_time': \"Short (days)\"\n",
    "}\n",
    "crew.kickoff(inputs=user_requirements)"
   ]
  }
 ],
 "metadata": {
  "language_info": {
   "name": "python"
  }
 },
 "nbformat": 4,
 "nbformat_minor": 2
}
