{
 "cells": [
  {
   "cell_type": "markdown",
   "metadata": {},
   "source": [
    "## Import All the Stuff"
   ]
  },
  {
   "cell_type": "code",
   "execution_count": 31,
   "metadata": {},
   "outputs": [],
   "source": [
    "import sys\n",
    "import os\n",
    "from crewai import Process, Crew, Agent, Task\n",
    "from crewai_tools import BaseTool, SerperDevTool\n",
    "import requests\n",
    "from dotenv import load_dotenv\n",
    "from langchain_openai import ChatOpenAI"
   ]
  },
  {
   "cell_type": "markdown",
   "metadata": {},
   "source": [
    "## Hardcode the local LLM (for development purposes, otherwise we'll use the .env)"
   ]
  },
  {
   "cell_type": "code",
   "execution_count": 4,
   "metadata": {},
   "outputs": [],
   "source": [
    "load_dotenv()\n",
    "\n",
    "llm = ChatOpenAI(\n",
    "    model=\"crewai-llama3.3\",\n",
    "    base_url=\"http://localhost:11434/v1\"\n",
    ")\n",
    "os.environ[\"SERPER_API_KEY\"] = \"0cf06b81fce85435f0ec45e0114341b0a93fc674\""
   ]
  },
  {
   "cell_type": "markdown",
   "metadata": {},
   "source": [
    "## Choosing an internet search api instead"
   ]
  },
  {
   "cell_type": "code",
   "execution_count": 5,
   "metadata": {},
   "outputs": [],
   "source": [
    "search_tool = SerperDevTool()"
   ]
  },
  {
   "cell_type": "markdown",
   "metadata": {},
   "source": [
    "# ---------------------- Agents Definition ----------------------\n"
   ]
  },
  {
   "cell_type": "markdown",
   "metadata": {},
   "source": [
    "### 1. Requirements Gathering Agent"
   ]
  },
  {
   "cell_type": "code",
   "execution_count": 6,
   "metadata": {},
   "outputs": [],
   "source": [
    "requirements_agent = Agent(\n",
    "    role=\"Requirement Gathering Agent\",\n",
    "    goal=\"Gather and structure user requirements, ensuring all essential metadata fields are captured in a JSON format.\",\n",
    "    backstory=(\n",
    "\"You are an expert AWS consultant skilled in structured requirement gathering. \"\n",
    "              \"Your job is to conduct detailed interviews with users to extract clear and actionable requirements. \"\n",
    "              \"You categorize user inputs across key attributes such as cost profile, scalability, security, \"\n",
    "              \"performance, and compliance needs. \"\n",
    "              \"Your structured output enables other agents to accurately retrieve AWS documentation and generate solutions. \"\n",
    "              \"You always clarify ambiguous responses and ensure completeness before finalizing requirements.\"\n",
    "),\n",
    "    allow_delegation=False,\n",
    "    verbose=True,\n",
    "    llm=llm,\n",
    ")\n"
   ]
  },
  {
   "cell_type": "markdown",
   "metadata": {},
   "source": [
    "### 2. Knowledge Retrieval Agent"
   ]
  },
  {
   "cell_type": "code",
   "execution_count": 7,
   "metadata": {},
   "outputs": [],
   "source": [
    "knowledge_agent = Agent(\n",
    "    role=\"Knowledge Agent\",\n",
    "    goal=\"Retrieve and process AWS documentation to provide up-to-date and reliable information.\",\n",
    "    backstory=(\n",
    "\"You are an AI-powered AWS documentation specialist and a prompt engineering expert. \" \n",
    "\"Your prompt engineering skills enable you to craft optimal queries to pass to the LLM-based internet search tool, from structured user requirements, \" \n",
    "\"ensuring that your search results are precise, comprehensive, and contextually relevant.\"\n",
    "\"Your expertise lies in retrieving, analyzing, and summarizing AWS documentation, guides, decision guides, implementation guides, whitepapers, case studies, best practices, tutorials, and reference architectures and use cases to generate a base solution tailored to the user’s needs\"\n",
    "\n",
    "),\n",
    "    allow_delegation=False,\n",
    "    verbose=True,\n",
    "    llm=llm,\n",
    ")\n"
   ]
  },
  {
   "cell_type": "markdown",
   "metadata": {},
   "source": [
    "### 3. Implementation Examples Agent"
   ]
  },
  {
   "cell_type": "code",
   "execution_count": 17,
   "metadata": {},
   "outputs": [],
   "source": [
    "implementation_agent = Agent( \n",
    "    role=\"Implementation Example Agent\", \n",
    "    goal=\"Search real-world AWS implementation examples on GitHub to refine and support the generated architecture solution.\", \n",
    "    backstory=(\n",
    "    \"You specialize in finding practical AWS implementation examples by searching GitHub repositories. \" \n",
    "    \"Your task is to provide real-world code examples and reference implementations that align with the proposed solution. \" \n",
    "    \"This helps validate the feasibility of the recommendations and offers tangible examples for further refinement.\"\n",
    "    ), \n",
    "    allow_delegation=True, \n",
    "    verbose=True, \n",
    "    llm=llm\n",
    ")\n"
   ]
  },
  {
   "cell_type": "markdown",
   "metadata": {},
   "source": [
    "### 4. QA and Validation Agent\n"
   ]
  },
  {
   "cell_type": "code",
   "execution_count": 8,
   "metadata": {},
   "outputs": [],
   "source": [
    "qa_validation_agent = Agent( \n",
    "    role=\"QA and Validation Agent\", \n",
    "    goal=\"Ensure the AWS architecture recommendation is comprehensive, accurate, and aligned with AWS best practices, including service details, quotas, and integration requirements.\", \n",
    "    backstory=(\n",
    "    \"You are a meticulous QA specialist with deep expertise in AWS documentation and best practices. \" \n",
    "    \"Your role is to review the architecture recommendation generated by the Solution Architect Agent. \" \n",
    "    \"You must verify that the solution addresses all aspects of the user requirements (cost, scalability, security, performance, and compliance) \" \n",
    "    \"and is fully supported by up-to-date AWS service documentation. \" \n",
    "    \"Ensure that every recommendation is backed by concrete references, that all assumptions are clearly stated, \" \n",
    "    \"and that there are no gaps in the technical details (such as quotas or integration specifics). \" \n",
    "    \"If any part of the solution is incomplete or contradictory, delegate the refinement back to the appropriate agent.\" \n",
    "    ), \n",
    "    allow_delegation=True, \n",
    "    verbose=True, \n",
    "    llm=llm,\n",
    ")\n"
   ]
  },
  {
   "cell_type": "markdown",
   "metadata": {},
   "source": [
    "### 5. Solution Architect Agent"
   ]
  },
  {
   "cell_type": "code",
   "execution_count": 9,
   "metadata": {},
   "outputs": [],
   "source": [
    "solution_agent = Agent(\n",
    "    role=\"Solution Agent\",\n",
    "    goal=\"Generate architecturally sound AWS solutions tailored to user needs.\",\n",
    "    backstory=(\n",
    "\"You are a highly experienced AWS Solutions Architect, skilled in designing scalable, cost-effective, and secure cloud architectures. \"\n",
    "              \"Using structured user requirements and retrieved AWS documentation, you craft tailored AWS architecture recommendations \"\n",
    "              \"that align with best practices, compliance, and performance needs.\"\n",
    "    ),\n",
    "    allow_delegation=False,\n",
    "    verbose=True,\n",
    "    llm=llm\n",
    ")\n"
   ]
  },
  {
   "cell_type": "markdown",
   "metadata": {},
   "source": [
    "#  ---------------------- Tasks Definition ----------------------\n"
   ]
  },
  {
   "cell_type": "markdown",
   "metadata": {},
   "source": [
    "### Task 1: Requirements Gathering"
   ]
  },
  {
   "cell_type": "code",
   "execution_count": 10,
   "metadata": {},
   "outputs": [],
   "source": [
    "task_requirements = Task(\n",
    "    description=(\n",
    "        \"Conduct structured interviews with the user to gather key requirements for the AWS solution. \"\n",
    "        \"Ask targeted questions about cost, scalability, ease of implementation, security, and other relevant factors. \"\n",
    "        \"Ensure responses align with predefined metadata categories. \"\n",
    "        \"Clarify ambiguous answers and document the final requirements in JSON format with the following structure:\\n\\n\"\n",
    "\n",
    "        \"```json\\n\"\n",
    "        \"{\"\n",
    "        '  \"cost_profile\": \"High Cost | Medium Cost | Low Cost | Cost-Optimized\",\\n'\n",
    "        '  \"scalability\": \"High (millions of users) | Medium | Low (small-scale)\",\\n'\n",
    "        '  \"implementation\": {\\n'\n",
    "        '      \"ease\": \"Easy | Moderate | Difficult\",\\n'\n",
    "        '      \"integration\": \"Easy | Moderate | Difficult\",\\n'\n",
    "        '      \"expertise\": \"Beginner | Intermediate | Advanced\"\\n'\n",
    "        '  },\\n'\n",
    "        '  \"use_case\": [\"Video Streaming\", \"Data Analytics\", \"IoT\", \"Web Applications\", \"Machine Learning\", \"Databases\", \"Storage\", \"Networking\", \"Security\", \"DevOps\", \"Hybrid Cloud\", \"Serverless\"],\\n'\n",
    "        '  \"security_tier\": \"Basic | Enterprise\",\\n'\n",
    "        '  \"performance\": \"High Performance | Moderate | Low Performance\",\\n'\n",
    "        '  \"availability\": \"High Availability (multi-region) | Moderate | Low Availability\",\\n'\n",
    "        '  \"compliance\": [\"GDPR\", \"HIPAA\", \"PCI-DSS\", \"None\"],\\n'\n",
    "        '  \"implementation_time\": \"Short (days) | Medium (weeks) | Long (months+)\"\\n'\n",
    "        \"}\\n\"\n",
    "        \"```\\n\\n\"\n",
    "\n",
    "        \"Ensure the user understands and confirms their selections before finalizing the output. \"\n",
    "        \"This JSON will serve as the foundation for knowledge retrieval and solution generation.\"\n",
    "    ),\n",
    "    expected_output=\"A structured JSON object with categorized user requirements.\",\n",
    "    agent=requirements_agent\n",
    ")"
   ]
  },
  {
   "cell_type": "markdown",
   "metadata": {},
   "source": [
    "### Task 2: Knowledge Retrieval\n"
   ]
  },
  {
   "cell_type": "code",
   "execution_count": 22,
   "metadata": {},
   "outputs": [],
   "source": [
    "task_knowledge_retrieval = Task(\n",
    "    description=(\n",
    "\"Retrieve relevant AWS documentation, guides, decision guides, implementation guides, whitepapers, case studies, best practices, tutorials, and reference architectures and use cases to generate a base solution tailored to the user’s needs based on user requirements.\"\n",
    "\"Use internet search via the PerplexicaSearchTool to ensure high relevance.\"\n",
    "\"Leverage your prompt engineering expertise to craft optimal queries from the structured requirements. \"\n",
    "    ),\n",
    "    expected_output=\"A distilled summary of AWS documentation, guides, whitepapers, use cases, and tutorials that are directly relevant to the user's needs, providing a comprehensive base response for solution design.\", \n",
    "    agent=knowledge_agent,\n",
    "    tools=[search_tool],\n",
    ")\n"
   ]
  },
  {
   "cell_type": "markdown",
   "metadata": {},
   "source": [
    "### Task 3: Real-World Implementations Search \n"
   ]
  },
  {
   "cell_type": "code",
   "execution_count": 23,
   "metadata": {},
   "outputs": [],
   "source": [
    "task_implementation_search = Task( \n",
    "    description=\n",
    "    \"Refine the base response (the distilled summary) by searching GitHub repositories for real-world AWS implementation examples relevant to the user's requirements\"\n",
    "    \"Integrate these real-world examples to enhance and validate the AWS documentation summary, ensuring the solution is grounded in proven practices.\"\n",
    "    \"Summarize findings with links and code references.\", \n",
    "    expected_output=\"A structured summary of real-world AWS implementations, including concrete examples and references.\", \n",
    "    agent=implementation_agent,\n",
    "    tools=[search_tool],\n",
    ")\n"
   ]
  },
  {
   "cell_type": "markdown",
   "metadata": {},
   "source": [
    "### Task 4: QA and Validation"
   ]
  },
  {
   "cell_type": "code",
   "execution_count": 24,
   "metadata": {},
   "outputs": [],
   "source": [
    "task_validation = Task( \n",
    "    description=\n",
    "    \"Review the AWS architecture recommendation generated by the Solution Architect Agent. \" \n",
    "    \"Ensure that all user requirements are addressed: confirm that cost, scalability, security, performance, and compliance factors are properly covered. \" \n",
    "    \"Search AWS service documentation using the PerplexicaSearchTool to verify details such as service quotas, integration requirements, and best practices. \" \n",
    "    \"Check that every recommendation is supported with references and that assumptions are explicitly noted. \" \n",
    "    \"Provide a detailed validation report that outlines any discrepancies or areas for improvement, and, if necessary, delegate revisions back to the Solution Architect Agent.\", \n",
    "    expected_output= \n",
    "    \"A detailed validation report that includes:\\n\" \n",
    "    \"- Confirmation that all user requirements are met by the proposed architecture.\\n\" \n",
    "    \"- References and supporting evidence from AWS documentation for each recommendation.\\n\" \n",
    "    \"- Identification of any discrepancies, missing details, or assumptions that need clarification.\\n\" \n",
    "    \"- Actionable recommendations for refinements, if any issues are detected.\",\n",
    "\n",
    "    agent=qa_validation_agent, \n",
    "    tools=[search_tool], \n",
    ")\n"
   ]
  },
  {
   "cell_type": "markdown",
   "metadata": {},
   "source": [
    "### Task 5: Solution Generation\n"
   ]
  },
  {
   "cell_type": "code",
   "execution_count": 25,
   "metadata": {},
   "outputs": [],
   "source": [
    "task_solution_generation = Task(\n",
    "    description=\"Generate a detailed AWS architecture recommendation based on user requirements and retrieved AWS documentation. \"\n",
    "                \"Ensure the solution is optimized for cost, scalability, security, and compliance.\",\n",
    "    expected_output=\"A structured AWS architecture recommendation document.\",\n",
    "    agent=solution_agent\n",
    ")"
   ]
  },
  {
   "cell_type": "markdown",
   "metadata": {},
   "source": [
    "# -------------------------- Crew Assembly --------------------------\n"
   ]
  },
  {
   "cell_type": "code",
   "execution_count": 32,
   "metadata": {},
   "outputs": [],
   "source": [
    "crew = Crew(\n",
    "    agents=[ requirements_agent, knowledge_agent, implementation_agent, qa_validation_agent, solution_agent ], \n",
    "    tasks=[ task_requirements, task_knowledge_retrieval, task_implementation_search, task_validation, task_solution_generation ],\n",
    "    process=Process.sequential,  # Ensures logical step-by-step execution\n",
    "    verbose=2,  # Set verbosity level for detailed logs during execution\n",
    "    memory=True\n",
    ")\n"
   ]
  },
  {
   "cell_type": "markdown",
   "metadata": {},
   "source": [
    "# -------------------------- Run Crew --------------------------\n"
   ]
  },
  {
   "cell_type": "code",
   "execution_count": 33,
   "metadata": {},
   "outputs": [
    {
     "name": "stdout",
     "output_type": "stream",
     "text": [
      "\u001b[1m\u001b[95m [DEBUG]: == Working Agent: Requirement Gathering Agent\u001b[00m\n",
      "\u001b[1m\u001b[95m [INFO]: == Starting Task: Conduct structured interviews with the user to gather key requirements for the AWS solution. Ask targeted questions about cost, scalability, ease of implementation, security, and other relevant factors. Ensure responses align with predefined metadata categories. Clarify ambiguous answers and document the final requirements in JSON format with the following structure:\n",
      "\n",
      "```json\n",
      "{  \"cost_profile\": \"High Cost | Medium Cost | Low Cost | Cost-Optimized\",\n",
      "  \"scalability\": \"High (millions of users) | Medium | Low (small-scale)\",\n",
      "  \"implementation\": {\n",
      "      \"ease\": \"Easy | Moderate | Difficult\",\n",
      "      \"integration\": \"Easy | Moderate | Difficult\",\n",
      "      \"expertise\": \"Beginner | Intermediate | Advanced\"\n",
      "  },\n",
      "  \"use_case\": [\"Video Streaming\", \"Data Analytics\", \"IoT\", \"Web Applications\", \"Machine Learning\", \"Databases\", \"Storage\", \"Networking\", \"Security\", \"DevOps\", \"Hybrid Cloud\", \"Serverless\"],\n",
      "  \"security_tier\": \"Basic | Enterprise\",\n",
      "  \"performance\": \"High Performance | Moderate | Low Performance\",\n",
      "  \"availability\": \"High Availability (multi-region) | Moderate | Low Availability\",\n",
      "  \"compliance\": [\"GDPR\", \"HIPAA\", \"PCI-DSS\", \"None\"],\n",
      "  \"implementation_time\": \"Short (days) | Medium (weeks) | Long (months+)\"\n",
      "}\n",
      "```\n",
      "\n",
      "Ensure the user understands and confirms their selections before finalizing the output. This JSON will serve as the foundation for knowledge retrieval and solution generation.\u001b[00m\n"
     ]
    },
    {
     "ename": "AuthenticationError",
     "evalue": "Error code: 401 - {'error': {'message': 'Incorrect API key provided: NA. You can find your API key at https://platform.openai.com/account/api-keys.', 'type': 'invalid_request_error', 'param': None, 'code': 'invalid_api_key'}}",
     "output_type": "error",
     "traceback": [
      "\u001b[31m---------------------------------------------------------------------------\u001b[39m",
      "\u001b[31mAuthenticationError\u001b[39m                       Traceback (most recent call last)",
      "\u001b[36mCell\u001b[39m\u001b[36m \u001b[39m\u001b[32mIn[33]\u001b[39m\u001b[32m, line 1\u001b[39m\n\u001b[32m----> \u001b[39m\u001b[32m1\u001b[39m \u001b[43mcrew\u001b[49m\u001b[43m.\u001b[49m\u001b[43mkickoff\u001b[49m\u001b[43m(\u001b[49m\u001b[43m)\u001b[49m\n",
      "\u001b[36mFile \u001b[39m\u001b[32m~\\AppData\\Local\\pypoetry\\Cache\\virtualenvs\\aws-sa-crew-jiuHyfR2-py3.12\\Lib\\site-packages\\crewai\\crew.py:252\u001b[39m, in \u001b[36mCrew.kickoff\u001b[39m\u001b[34m(self, inputs)\u001b[39m\n\u001b[32m    249\u001b[39m metrics = []\n\u001b[32m    251\u001b[39m \u001b[38;5;28;01mif\u001b[39;00m \u001b[38;5;28mself\u001b[39m.process == Process.sequential:\n\u001b[32m--> \u001b[39m\u001b[32m252\u001b[39m     result = \u001b[38;5;28;43mself\u001b[39;49m\u001b[43m.\u001b[49m\u001b[43m_run_sequential_process\u001b[49m\u001b[43m(\u001b[49m\u001b[43m)\u001b[49m\n\u001b[32m    253\u001b[39m \u001b[38;5;28;01melif\u001b[39;00m \u001b[38;5;28mself\u001b[39m.process == Process.hierarchical:\n\u001b[32m    254\u001b[39m     result, manager_metrics = \u001b[38;5;28mself\u001b[39m._run_hierarchical_process()\n",
      "\u001b[36mFile \u001b[39m\u001b[32m~\\AppData\\Local\\pypoetry\\Cache\\virtualenvs\\aws-sa-crew-jiuHyfR2-py3.12\\Lib\\site-packages\\crewai\\crew.py:293\u001b[39m, in \u001b[36mCrew._run_sequential_process\u001b[39m\u001b[34m(self)\u001b[39m\n\u001b[32m    288\u001b[39m \u001b[38;5;28;01mif\u001b[39;00m \u001b[38;5;28mself\u001b[39m.output_log_file:\n\u001b[32m    289\u001b[39m     \u001b[38;5;28mself\u001b[39m._file_handler.log(\n\u001b[32m    290\u001b[39m         agent=role, task=task.description, status=\u001b[33m\"\u001b[39m\u001b[33mstarted\u001b[39m\u001b[33m\"\u001b[39m\n\u001b[32m    291\u001b[39m     )\n\u001b[32m--> \u001b[39m\u001b[32m293\u001b[39m output = \u001b[43mtask\u001b[49m\u001b[43m.\u001b[49m\u001b[43mexecute\u001b[49m\u001b[43m(\u001b[49m\u001b[43mcontext\u001b[49m\u001b[43m=\u001b[49m\u001b[43mtask_output\u001b[49m\u001b[43m)\u001b[49m\n\u001b[32m    294\u001b[39m \u001b[38;5;28;01mif\u001b[39;00m \u001b[38;5;129;01mnot\u001b[39;00m task.async_execution:\n\u001b[32m    295\u001b[39m     task_output = output\n",
      "\u001b[36mFile \u001b[39m\u001b[32m~\\AppData\\Local\\pypoetry\\Cache\\virtualenvs\\aws-sa-crew-jiuHyfR2-py3.12\\Lib\\site-packages\\crewai\\task.py:173\u001b[39m, in \u001b[36mTask.execute\u001b[39m\u001b[34m(self, agent, context, tools)\u001b[39m\n\u001b[32m    171\u001b[39m     \u001b[38;5;28mself\u001b[39m.thread.start()\n\u001b[32m    172\u001b[39m \u001b[38;5;28;01melse\u001b[39;00m:\n\u001b[32m--> \u001b[39m\u001b[32m173\u001b[39m     result = \u001b[38;5;28;43mself\u001b[39;49m\u001b[43m.\u001b[49m\u001b[43m_execute\u001b[49m\u001b[43m(\u001b[49m\n\u001b[32m    174\u001b[39m \u001b[43m        \u001b[49m\u001b[43mtask\u001b[49m\u001b[43m=\u001b[49m\u001b[38;5;28;43mself\u001b[39;49m\u001b[43m,\u001b[49m\n\u001b[32m    175\u001b[39m \u001b[43m        \u001b[49m\u001b[43magent\u001b[49m\u001b[43m=\u001b[49m\u001b[43magent\u001b[49m\u001b[43m,\u001b[49m\n\u001b[32m    176\u001b[39m \u001b[43m        \u001b[49m\u001b[43mcontext\u001b[49m\u001b[43m=\u001b[49m\u001b[43mcontext\u001b[49m\u001b[43m,\u001b[49m\n\u001b[32m    177\u001b[39m \u001b[43m        \u001b[49m\u001b[43mtools\u001b[49m\u001b[43m=\u001b[49m\u001b[43mtools\u001b[49m\u001b[43m,\u001b[49m\n\u001b[32m    178\u001b[39m \u001b[43m    \u001b[49m\u001b[43m)\u001b[49m\n\u001b[32m    179\u001b[39m     \u001b[38;5;28;01mreturn\u001b[39;00m result\n",
      "\u001b[36mFile \u001b[39m\u001b[32m~\\AppData\\Local\\pypoetry\\Cache\\virtualenvs\\aws-sa-crew-jiuHyfR2-py3.12\\Lib\\site-packages\\crewai\\task.py:182\u001b[39m, in \u001b[36mTask._execute\u001b[39m\u001b[34m(self, agent, task, context, tools)\u001b[39m\n\u001b[32m    181\u001b[39m \u001b[38;5;28;01mdef\u001b[39;00m\u001b[38;5;250m \u001b[39m\u001b[34m_execute\u001b[39m(\u001b[38;5;28mself\u001b[39m, agent, task, context, tools):\n\u001b[32m--> \u001b[39m\u001b[32m182\u001b[39m     result = \u001b[43magent\u001b[49m\u001b[43m.\u001b[49m\u001b[43mexecute_task\u001b[49m\u001b[43m(\u001b[49m\n\u001b[32m    183\u001b[39m \u001b[43m        \u001b[49m\u001b[43mtask\u001b[49m\u001b[43m=\u001b[49m\u001b[43mtask\u001b[49m\u001b[43m,\u001b[49m\n\u001b[32m    184\u001b[39m \u001b[43m        \u001b[49m\u001b[43mcontext\u001b[49m\u001b[43m=\u001b[49m\u001b[43mcontext\u001b[49m\u001b[43m,\u001b[49m\n\u001b[32m    185\u001b[39m \u001b[43m        \u001b[49m\u001b[43mtools\u001b[49m\u001b[43m=\u001b[49m\u001b[43mtools\u001b[49m\u001b[43m,\u001b[49m\n\u001b[32m    186\u001b[39m \u001b[43m    \u001b[49m\u001b[43m)\u001b[49m\n\u001b[32m    188\u001b[39m     exported_output = \u001b[38;5;28mself\u001b[39m._export_output(result)\n\u001b[32m    190\u001b[39m     \u001b[38;5;28mself\u001b[39m.output = TaskOutput(\n\u001b[32m    191\u001b[39m         description=\u001b[38;5;28mself\u001b[39m.description,\n\u001b[32m    192\u001b[39m         exported_output=exported_output,\n\u001b[32m    193\u001b[39m         raw_output=result,\n\u001b[32m    194\u001b[39m     )\n",
      "\u001b[36mFile \u001b[39m\u001b[32m~\\AppData\\Local\\pypoetry\\Cache\\virtualenvs\\aws-sa-crew-jiuHyfR2-py3.12\\Lib\\site-packages\\crewai\\agent.py:207\u001b[39m, in \u001b[36mAgent.execute_task\u001b[39m\u001b[34m(self, task, context, tools)\u001b[39m\n\u001b[32m    201\u001b[39m \u001b[38;5;28;01mif\u001b[39;00m \u001b[38;5;28mself\u001b[39m.crew \u001b[38;5;129;01mand\u001b[39;00m \u001b[38;5;28mself\u001b[39m.crew.memory:\n\u001b[32m    202\u001b[39m     contextual_memory = ContextualMemory(\n\u001b[32m    203\u001b[39m         \u001b[38;5;28mself\u001b[39m.crew._short_term_memory,\n\u001b[32m    204\u001b[39m         \u001b[38;5;28mself\u001b[39m.crew._long_term_memory,\n\u001b[32m    205\u001b[39m         \u001b[38;5;28mself\u001b[39m.crew._entity_memory,\n\u001b[32m    206\u001b[39m     )\n\u001b[32m--> \u001b[39m\u001b[32m207\u001b[39m     memory = \u001b[43mcontextual_memory\u001b[49m\u001b[43m.\u001b[49m\u001b[43mbuild_context_for_task\u001b[49m\u001b[43m(\u001b[49m\u001b[43mtask\u001b[49m\u001b[43m,\u001b[49m\u001b[43m \u001b[49m\u001b[43mcontext\u001b[49m\u001b[43m)\u001b[49m\n\u001b[32m    208\u001b[39m     \u001b[38;5;28;01mif\u001b[39;00m memory.strip() != \u001b[33m\"\u001b[39m\u001b[33m\"\u001b[39m:\n\u001b[32m    209\u001b[39m         task_prompt += \u001b[38;5;28mself\u001b[39m.i18n.slice(\u001b[33m\"\u001b[39m\u001b[33mmemory\u001b[39m\u001b[33m\"\u001b[39m).format(memory=memory)\n",
      "\u001b[36mFile \u001b[39m\u001b[32m~\\AppData\\Local\\pypoetry\\Cache\\virtualenvs\\aws-sa-crew-jiuHyfR2-py3.12\\Lib\\site-packages\\crewai\\memory\\contextual\\contextual_memory.py:22\u001b[39m, in \u001b[36mContextualMemory.build_context_for_task\u001b[39m\u001b[34m(self, task, context)\u001b[39m\n\u001b[32m     20\u001b[39m context = []\n\u001b[32m     21\u001b[39m context.append(\u001b[38;5;28mself\u001b[39m._fetch_ltm_context(task.description))\n\u001b[32m---> \u001b[39m\u001b[32m22\u001b[39m context.append(\u001b[38;5;28;43mself\u001b[39;49m\u001b[43m.\u001b[49m\u001b[43m_fetch_stm_context\u001b[49m\u001b[43m(\u001b[49m\u001b[43mquery\u001b[49m\u001b[43m)\u001b[49m)\n\u001b[32m     23\u001b[39m context.append(\u001b[38;5;28mself\u001b[39m._fetch_entity_context(query))\n\u001b[32m     24\u001b[39m \u001b[38;5;28;01mreturn\u001b[39;00m \u001b[33m\"\u001b[39m\u001b[38;5;130;01m\\n\u001b[39;00m\u001b[33m\"\u001b[39m.join(\u001b[38;5;28mfilter\u001b[39m(\u001b[38;5;28;01mNone\u001b[39;00m, context))\n",
      "\u001b[36mFile \u001b[39m\u001b[32m~\\AppData\\Local\\pypoetry\\Cache\\virtualenvs\\aws-sa-crew-jiuHyfR2-py3.12\\Lib\\site-packages\\crewai\\memory\\contextual\\contextual_memory.py:31\u001b[39m, in \u001b[36mContextualMemory._fetch_stm_context\u001b[39m\u001b[34m(self, query)\u001b[39m\n\u001b[32m     26\u001b[39m \u001b[38;5;28;01mdef\u001b[39;00m\u001b[38;5;250m \u001b[39m\u001b[34m_fetch_stm_context\u001b[39m(\u001b[38;5;28mself\u001b[39m, query) -> \u001b[38;5;28mstr\u001b[39m:\n\u001b[32m     27\u001b[39m \u001b[38;5;250m    \u001b[39m\u001b[33;03m\"\"\"\u001b[39;00m\n\u001b[32m     28\u001b[39m \u001b[33;03m    Fetches recent relevant insights from STM related to the task's description and expected_output,\u001b[39;00m\n\u001b[32m     29\u001b[39m \u001b[33;03m    formatted as bullet points.\u001b[39;00m\n\u001b[32m     30\u001b[39m \u001b[33;03m    \"\"\"\u001b[39;00m\n\u001b[32m---> \u001b[39m\u001b[32m31\u001b[39m     stm_results = \u001b[38;5;28;43mself\u001b[39;49m\u001b[43m.\u001b[49m\u001b[43mstm\u001b[49m\u001b[43m.\u001b[49m\u001b[43msearch\u001b[49m\u001b[43m(\u001b[49m\u001b[43mquery\u001b[49m\u001b[43m)\u001b[49m\n\u001b[32m     32\u001b[39m     formatted_results = \u001b[33m\"\u001b[39m\u001b[38;5;130;01m\\n\u001b[39;00m\u001b[33m\"\u001b[39m.join([\u001b[33mf\u001b[39m\u001b[33m\"\u001b[39m\u001b[33m- \u001b[39m\u001b[38;5;132;01m{\u001b[39;00mresult\u001b[38;5;132;01m}\u001b[39;00m\u001b[33m\"\u001b[39m \u001b[38;5;28;01mfor\u001b[39;00m result \u001b[38;5;129;01min\u001b[39;00m stm_results])\n\u001b[32m     33\u001b[39m     \u001b[38;5;28;01mreturn\u001b[39;00m \u001b[33mf\u001b[39m\u001b[33m\"\u001b[39m\u001b[33mRecent Insights:\u001b[39m\u001b[38;5;130;01m\\n\u001b[39;00m\u001b[38;5;132;01m{\u001b[39;00mformatted_results\u001b[38;5;132;01m}\u001b[39;00m\u001b[33m\"\u001b[39m \u001b[38;5;28;01mif\u001b[39;00m stm_results \u001b[38;5;28;01melse\u001b[39;00m \u001b[33m\"\u001b[39m\u001b[33m\"\u001b[39m\n",
      "\u001b[36mFile \u001b[39m\u001b[32m~\\AppData\\Local\\pypoetry\\Cache\\virtualenvs\\aws-sa-crew-jiuHyfR2-py3.12\\Lib\\site-packages\\crewai\\memory\\short_term\\short_term_memory.py:23\u001b[39m, in \u001b[36mShortTermMemory.search\u001b[39m\u001b[34m(self, query, score_threshold)\u001b[39m\n\u001b[32m     22\u001b[39m \u001b[38;5;28;01mdef\u001b[39;00m\u001b[38;5;250m \u001b[39m\u001b[34msearch\u001b[39m(\u001b[38;5;28mself\u001b[39m, query: \u001b[38;5;28mstr\u001b[39m, score_threshold: \u001b[38;5;28mfloat\u001b[39m = \u001b[32m0.35\u001b[39m):\n\u001b[32m---> \u001b[39m\u001b[32m23\u001b[39m     \u001b[38;5;28;01mreturn\u001b[39;00m \u001b[38;5;28;43mself\u001b[39;49m\u001b[43m.\u001b[49m\u001b[43mstorage\u001b[49m\u001b[43m.\u001b[49m\u001b[43msearch\u001b[49m\u001b[43m(\u001b[49m\u001b[43mquery\u001b[49m\u001b[43m=\u001b[49m\u001b[43mquery\u001b[49m\u001b[43m,\u001b[49m\u001b[43m \u001b[49m\u001b[43mscore_threshold\u001b[49m\u001b[43m=\u001b[49m\u001b[43mscore_threshold\u001b[49m\u001b[43m)\u001b[49m\n",
      "\u001b[36mFile \u001b[39m\u001b[32m~\\AppData\\Local\\pypoetry\\Cache\\virtualenvs\\aws-sa-crew-jiuHyfR2-py3.12\\Lib\\site-packages\\crewai\\memory\\storage\\rag_storage.py:90\u001b[39m, in \u001b[36mRAGStorage.search\u001b[39m\u001b[34m(self, query, limit, filter, score_threshold)\u001b[39m\n\u001b[32m     85\u001b[39m \u001b[38;5;28;01mwith\u001b[39;00m suppress_logging():\n\u001b[32m     86\u001b[39m     \u001b[38;5;28;01mtry\u001b[39;00m:\n\u001b[32m     87\u001b[39m         results = (\n\u001b[32m     88\u001b[39m             \u001b[38;5;28mself\u001b[39m.app.search(query, limit, where=\u001b[38;5;28mfilter\u001b[39m)\n\u001b[32m     89\u001b[39m             \u001b[38;5;28;01mif\u001b[39;00m \u001b[38;5;28mfilter\u001b[39m\n\u001b[32m---> \u001b[39m\u001b[32m90\u001b[39m             \u001b[38;5;28;01melse\u001b[39;00m \u001b[38;5;28;43mself\u001b[39;49m\u001b[43m.\u001b[49m\u001b[43mapp\u001b[49m\u001b[43m.\u001b[49m\u001b[43msearch\u001b[49m\u001b[43m(\u001b[49m\u001b[43mquery\u001b[49m\u001b[43m,\u001b[49m\u001b[43m \u001b[49m\u001b[43mlimit\u001b[49m\u001b[43m)\u001b[49m\n\u001b[32m     91\u001b[39m         )\n\u001b[32m     92\u001b[39m     \u001b[38;5;28;01mexcept\u001b[39;00m InvalidDimensionException:\n\u001b[32m     93\u001b[39m         \u001b[38;5;28mself\u001b[39m.app.reset()\n",
      "\u001b[36mFile \u001b[39m\u001b[32m~\\AppData\\Local\\pypoetry\\Cache\\virtualenvs\\aws-sa-crew-jiuHyfR2-py3.12\\Lib\\site-packages\\embedchain\\embedchain.py:653\u001b[39m, in \u001b[36mEmbedChain.search\u001b[39m\u001b[34m(self, query, num_documents, where, raw_filter, namespace)\u001b[39m\n\u001b[32m    642\u001b[39m filter_criteria = raw_filter \u001b[38;5;28;01mif\u001b[39;00m raw_filter \u001b[38;5;28;01melse\u001b[39;00m where\n\u001b[32m    644\u001b[39m params = {\n\u001b[32m    645\u001b[39m     \u001b[33m\"\u001b[39m\u001b[33minput_query\u001b[39m\u001b[33m\"\u001b[39m: query,\n\u001b[32m    646\u001b[39m     \u001b[33m\"\u001b[39m\u001b[33mn_results\u001b[39m\u001b[33m\"\u001b[39m: num_documents,\n\u001b[32m   (...)\u001b[39m\u001b[32m    650\u001b[39m     filter_type: filter_criteria,\n\u001b[32m    651\u001b[39m }\n\u001b[32m--> \u001b[39m\u001b[32m653\u001b[39m \u001b[38;5;28;01mreturn\u001b[39;00m [{\u001b[33m\"\u001b[39m\u001b[33mcontext\u001b[39m\u001b[33m\"\u001b[39m: c[\u001b[32m0\u001b[39m], \u001b[33m\"\u001b[39m\u001b[33mmetadata\u001b[39m\u001b[33m\"\u001b[39m: c[\u001b[32m1\u001b[39m]} \u001b[38;5;28;01mfor\u001b[39;00m c \u001b[38;5;129;01min\u001b[39;00m \u001b[38;5;28;43mself\u001b[39;49m\u001b[43m.\u001b[49m\u001b[43mdb\u001b[49m\u001b[43m.\u001b[49m\u001b[43mquery\u001b[49m\u001b[43m(\u001b[49m\u001b[43m*\u001b[49m\u001b[43m*\u001b[49m\u001b[43mparams\u001b[49m\u001b[43m)\u001b[49m]\n",
      "\u001b[36mFile \u001b[39m\u001b[32m~\\AppData\\Local\\pypoetry\\Cache\\virtualenvs\\aws-sa-crew-jiuHyfR2-py3.12\\Lib\\site-packages\\embedchain\\vectordb\\chroma.py:220\u001b[39m, in \u001b[36mChromaDB.query\u001b[39m\u001b[34m(self, input_query, n_results, where, raw_filter, citations, **kwargs)\u001b[39m\n\u001b[32m    218\u001b[39m     where_clause = \u001b[38;5;28mself\u001b[39m._generate_where_clause(where)\n\u001b[32m    219\u001b[39m \u001b[38;5;28;01mtry\u001b[39;00m:\n\u001b[32m--> \u001b[39m\u001b[32m220\u001b[39m     result = \u001b[38;5;28;43mself\u001b[39;49m\u001b[43m.\u001b[49m\u001b[43mcollection\u001b[49m\u001b[43m.\u001b[49m\u001b[43mquery\u001b[49m\u001b[43m(\u001b[49m\n\u001b[32m    221\u001b[39m \u001b[43m        \u001b[49m\u001b[43mquery_texts\u001b[49m\u001b[43m=\u001b[49m\u001b[43m[\u001b[49m\n\u001b[32m    222\u001b[39m \u001b[43m            \u001b[49m\u001b[43minput_query\u001b[49m\u001b[43m,\u001b[49m\n\u001b[32m    223\u001b[39m \u001b[43m        \u001b[49m\u001b[43m]\u001b[49m\u001b[43m,\u001b[49m\n\u001b[32m    224\u001b[39m \u001b[43m        \u001b[49m\u001b[43mn_results\u001b[49m\u001b[43m=\u001b[49m\u001b[43mn_results\u001b[49m\u001b[43m,\u001b[49m\n\u001b[32m    225\u001b[39m \u001b[43m        \u001b[49m\u001b[43mwhere\u001b[49m\u001b[43m=\u001b[49m\u001b[43mwhere_clause\u001b[49m\u001b[43m,\u001b[49m\n\u001b[32m    226\u001b[39m \u001b[43m    \u001b[49m\u001b[43m)\u001b[49m\n\u001b[32m    227\u001b[39m \u001b[38;5;28;01mexcept\u001b[39;00m InvalidDimensionException \u001b[38;5;28;01mas\u001b[39;00m e:\n\u001b[32m    228\u001b[39m     \u001b[38;5;28;01mraise\u001b[39;00m InvalidDimensionException(\n\u001b[32m    229\u001b[39m         e.message()\n\u001b[32m    230\u001b[39m         + \u001b[33m\"\u001b[39m\u001b[33m. This is commonly a side-effect when an embedding function, different from the one used to add the\u001b[39m\u001b[33m\"\u001b[39m\n\u001b[32m    231\u001b[39m         \u001b[33m\"\u001b[39m\u001b[33m embeddings, is used to retrieve an embedding from the database.\u001b[39m\u001b[33m\"\u001b[39m\n\u001b[32m    232\u001b[39m     ) \u001b[38;5;28;01mfrom\u001b[39;00m\u001b[38;5;250m \u001b[39m\u001b[38;5;28;01mNone\u001b[39;00m\n",
      "\u001b[36mFile \u001b[39m\u001b[32m~\\AppData\\Local\\pypoetry\\Cache\\virtualenvs\\aws-sa-crew-jiuHyfR2-py3.12\\Lib\\site-packages\\chromadb\\api\\models\\Collection.py:327\u001b[39m, in \u001b[36mCollection.query\u001b[39m\u001b[34m(self, query_embeddings, query_texts, query_images, query_uris, n_results, where, where_document, include)\u001b[39m\n\u001b[32m    325\u001b[39m \u001b[38;5;28;01mif\u001b[39;00m valid_query_embeddings \u001b[38;5;129;01mis\u001b[39;00m \u001b[38;5;28;01mNone\u001b[39;00m:\n\u001b[32m    326\u001b[39m     \u001b[38;5;28;01mif\u001b[39;00m query_texts \u001b[38;5;129;01mis\u001b[39;00m \u001b[38;5;129;01mnot\u001b[39;00m \u001b[38;5;28;01mNone\u001b[39;00m:\n\u001b[32m--> \u001b[39m\u001b[32m327\u001b[39m         valid_query_embeddings = \u001b[38;5;28;43mself\u001b[39;49m\u001b[43m.\u001b[49m\u001b[43m_embed\u001b[49m\u001b[43m(\u001b[49m\u001b[38;5;28;43minput\u001b[39;49m\u001b[43m=\u001b[49m\u001b[43mvalid_query_texts\u001b[49m\u001b[43m)\u001b[49m\n\u001b[32m    328\u001b[39m     \u001b[38;5;28;01melif\u001b[39;00m query_images \u001b[38;5;129;01mis\u001b[39;00m \u001b[38;5;129;01mnot\u001b[39;00m \u001b[38;5;28;01mNone\u001b[39;00m:\n\u001b[32m    329\u001b[39m         valid_query_embeddings = \u001b[38;5;28mself\u001b[39m._embed(\u001b[38;5;28minput\u001b[39m=valid_query_images)\n",
      "\u001b[36mFile \u001b[39m\u001b[32m~\\AppData\\Local\\pypoetry\\Cache\\virtualenvs\\aws-sa-crew-jiuHyfR2-py3.12\\Lib\\site-packages\\chromadb\\api\\models\\Collection.py:633\u001b[39m, in \u001b[36mCollection._embed\u001b[39m\u001b[34m(self, input)\u001b[39m\n\u001b[32m    628\u001b[39m \u001b[38;5;28;01mif\u001b[39;00m \u001b[38;5;28mself\u001b[39m._embedding_function \u001b[38;5;129;01mis\u001b[39;00m \u001b[38;5;28;01mNone\u001b[39;00m:\n\u001b[32m    629\u001b[39m     \u001b[38;5;28;01mraise\u001b[39;00m \u001b[38;5;167;01mValueError\u001b[39;00m(\n\u001b[32m    630\u001b[39m         \u001b[33m\"\u001b[39m\u001b[33mYou must provide an embedding function to compute embeddings.\u001b[39m\u001b[33m\"\u001b[39m\n\u001b[32m    631\u001b[39m         \u001b[33m\"\u001b[39m\u001b[33mhttps://docs.trychroma.com/embeddings\u001b[39m\u001b[33m\"\u001b[39m\n\u001b[32m    632\u001b[39m     )\n\u001b[32m--> \u001b[39m\u001b[32m633\u001b[39m \u001b[38;5;28;01mreturn\u001b[39;00m \u001b[38;5;28;43mself\u001b[39;49m\u001b[43m.\u001b[49m\u001b[43m_embedding_function\u001b[49m\u001b[43m(\u001b[49m\u001b[38;5;28;43minput\u001b[39;49m\u001b[43m=\u001b[49m\u001b[38;5;28;43minput\u001b[39;49m\u001b[43m)\u001b[49m\n",
      "\u001b[36mFile \u001b[39m\u001b[32m~\\AppData\\Local\\pypoetry\\Cache\\virtualenvs\\aws-sa-crew-jiuHyfR2-py3.12\\Lib\\site-packages\\chromadb\\api\\types.py:193\u001b[39m, in \u001b[36mEmbeddingFunction.__init_subclass__.<locals>.__call__\u001b[39m\u001b[34m(self, input)\u001b[39m\n\u001b[32m    192\u001b[39m \u001b[38;5;28;01mdef\u001b[39;00m\u001b[38;5;250m \u001b[39m\u001b[34m__call__\u001b[39m(\u001b[38;5;28mself\u001b[39m: EmbeddingFunction[D], \u001b[38;5;28minput\u001b[39m: D) -> Embeddings:\n\u001b[32m--> \u001b[39m\u001b[32m193\u001b[39m     result = \u001b[43mcall\u001b[49m\u001b[43m(\u001b[49m\u001b[38;5;28;43mself\u001b[39;49m\u001b[43m,\u001b[49m\u001b[43m \u001b[49m\u001b[38;5;28;43minput\u001b[39;49m\u001b[43m)\u001b[49m\n\u001b[32m    194\u001b[39m     \u001b[38;5;28;01mreturn\u001b[39;00m validate_embeddings(maybe_cast_one_to_many_embedding(result))\n",
      "\u001b[36mFile \u001b[39m\u001b[32m~\\AppData\\Local\\pypoetry\\Cache\\virtualenvs\\aws-sa-crew-jiuHyfR2-py3.12\\Lib\\site-packages\\chromadb\\utils\\embedding_functions.py:188\u001b[39m, in \u001b[36mOpenAIEmbeddingFunction.__call__\u001b[39m\u001b[34m(self, input)\u001b[39m\n\u001b[32m    186\u001b[39m \u001b[38;5;66;03m# Call the OpenAI Embedding API\u001b[39;00m\n\u001b[32m    187\u001b[39m \u001b[38;5;28;01mif\u001b[39;00m \u001b[38;5;28mself\u001b[39m._v1:\n\u001b[32m--> \u001b[39m\u001b[32m188\u001b[39m     embeddings = \u001b[38;5;28;43mself\u001b[39;49m\u001b[43m.\u001b[49m\u001b[43m_client\u001b[49m\u001b[43m.\u001b[49m\u001b[43mcreate\u001b[49m\u001b[43m(\u001b[49m\n\u001b[32m    189\u001b[39m \u001b[43m        \u001b[49m\u001b[38;5;28;43minput\u001b[39;49m\u001b[43m=\u001b[49m\u001b[38;5;28;43minput\u001b[39;49m\u001b[43m,\u001b[49m\u001b[43m \u001b[49m\u001b[43mmodel\u001b[49m\u001b[43m=\u001b[49m\u001b[38;5;28;43mself\u001b[39;49m\u001b[43m.\u001b[49m\u001b[43m_deployment_id\u001b[49m\u001b[43m \u001b[49m\u001b[38;5;129;43;01mor\u001b[39;49;00m\u001b[43m \u001b[49m\u001b[38;5;28;43mself\u001b[39;49m\u001b[43m.\u001b[49m\u001b[43m_model_name\u001b[49m\n\u001b[32m    190\u001b[39m \u001b[43m    \u001b[49m\u001b[43m)\u001b[49m.data\n\u001b[32m    192\u001b[39m     \u001b[38;5;66;03m# Sort resulting embeddings by index\u001b[39;00m\n\u001b[32m    193\u001b[39m     sorted_embeddings = \u001b[38;5;28msorted\u001b[39m(embeddings, key=\u001b[38;5;28;01mlambda\u001b[39;00m e: e.index)\n",
      "\u001b[36mFile \u001b[39m\u001b[32m~\\AppData\\Local\\pypoetry\\Cache\\virtualenvs\\aws-sa-crew-jiuHyfR2-py3.12\\Lib\\site-packages\\openai\\resources\\embeddings.py:128\u001b[39m, in \u001b[36mEmbeddings.create\u001b[39m\u001b[34m(self, input, model, dimensions, encoding_format, user, extra_headers, extra_query, extra_body, timeout)\u001b[39m\n\u001b[32m    122\u001b[39m             embedding.embedding = np.frombuffer(  \u001b[38;5;66;03m# type: ignore[no-untyped-call]\u001b[39;00m\n\u001b[32m    123\u001b[39m                 base64.b64decode(data), dtype=\u001b[33m\"\u001b[39m\u001b[33mfloat32\u001b[39m\u001b[33m\"\u001b[39m\n\u001b[32m    124\u001b[39m             ).tolist()\n\u001b[32m    126\u001b[39m     \u001b[38;5;28;01mreturn\u001b[39;00m obj\n\u001b[32m--> \u001b[39m\u001b[32m128\u001b[39m \u001b[38;5;28;01mreturn\u001b[39;00m \u001b[38;5;28;43mself\u001b[39;49m\u001b[43m.\u001b[49m\u001b[43m_post\u001b[49m\u001b[43m(\u001b[49m\n\u001b[32m    129\u001b[39m \u001b[43m    \u001b[49m\u001b[33;43m\"\u001b[39;49m\u001b[33;43m/embeddings\u001b[39;49m\u001b[33;43m\"\u001b[39;49m\u001b[43m,\u001b[49m\n\u001b[32m    130\u001b[39m \u001b[43m    \u001b[49m\u001b[43mbody\u001b[49m\u001b[43m=\u001b[49m\u001b[43mmaybe_transform\u001b[49m\u001b[43m(\u001b[49m\u001b[43mparams\u001b[49m\u001b[43m,\u001b[49m\u001b[43m \u001b[49m\u001b[43membedding_create_params\u001b[49m\u001b[43m.\u001b[49m\u001b[43mEmbeddingCreateParams\u001b[49m\u001b[43m)\u001b[49m\u001b[43m,\u001b[49m\n\u001b[32m    131\u001b[39m \u001b[43m    \u001b[49m\u001b[43moptions\u001b[49m\u001b[43m=\u001b[49m\u001b[43mmake_request_options\u001b[49m\u001b[43m(\u001b[49m\n\u001b[32m    132\u001b[39m \u001b[43m        \u001b[49m\u001b[43mextra_headers\u001b[49m\u001b[43m=\u001b[49m\u001b[43mextra_headers\u001b[49m\u001b[43m,\u001b[49m\n\u001b[32m    133\u001b[39m \u001b[43m        \u001b[49m\u001b[43mextra_query\u001b[49m\u001b[43m=\u001b[49m\u001b[43mextra_query\u001b[49m\u001b[43m,\u001b[49m\n\u001b[32m    134\u001b[39m \u001b[43m        \u001b[49m\u001b[43mextra_body\u001b[49m\u001b[43m=\u001b[49m\u001b[43mextra_body\u001b[49m\u001b[43m,\u001b[49m\n\u001b[32m    135\u001b[39m \u001b[43m        \u001b[49m\u001b[43mtimeout\u001b[49m\u001b[43m=\u001b[49m\u001b[43mtimeout\u001b[49m\u001b[43m,\u001b[49m\n\u001b[32m    136\u001b[39m \u001b[43m        \u001b[49m\u001b[43mpost_parser\u001b[49m\u001b[43m=\u001b[49m\u001b[43mparser\u001b[49m\u001b[43m,\u001b[49m\n\u001b[32m    137\u001b[39m \u001b[43m    \u001b[49m\u001b[43m)\u001b[49m\u001b[43m,\u001b[49m\n\u001b[32m    138\u001b[39m \u001b[43m    \u001b[49m\u001b[43mcast_to\u001b[49m\u001b[43m=\u001b[49m\u001b[43mCreateEmbeddingResponse\u001b[49m\u001b[43m,\u001b[49m\n\u001b[32m    139\u001b[39m \u001b[43m\u001b[49m\u001b[43m)\u001b[49m\n",
      "\u001b[36mFile \u001b[39m\u001b[32m~\\AppData\\Local\\pypoetry\\Cache\\virtualenvs\\aws-sa-crew-jiuHyfR2-py3.12\\Lib\\site-packages\\openai\\_base_client.py:1242\u001b[39m, in \u001b[36mSyncAPIClient.post\u001b[39m\u001b[34m(self, path, cast_to, body, options, files, stream, stream_cls)\u001b[39m\n\u001b[32m   1228\u001b[39m \u001b[38;5;28;01mdef\u001b[39;00m\u001b[38;5;250m \u001b[39m\u001b[34mpost\u001b[39m(\n\u001b[32m   1229\u001b[39m     \u001b[38;5;28mself\u001b[39m,\n\u001b[32m   1230\u001b[39m     path: \u001b[38;5;28mstr\u001b[39m,\n\u001b[32m   (...)\u001b[39m\u001b[32m   1237\u001b[39m     stream_cls: \u001b[38;5;28mtype\u001b[39m[_StreamT] | \u001b[38;5;28;01mNone\u001b[39;00m = \u001b[38;5;28;01mNone\u001b[39;00m,\n\u001b[32m   1238\u001b[39m ) -> ResponseT | _StreamT:\n\u001b[32m   1239\u001b[39m     opts = FinalRequestOptions.construct(\n\u001b[32m   1240\u001b[39m         method=\u001b[33m\"\u001b[39m\u001b[33mpost\u001b[39m\u001b[33m\"\u001b[39m, url=path, json_data=body, files=to_httpx_files(files), **options\n\u001b[32m   1241\u001b[39m     )\n\u001b[32m-> \u001b[39m\u001b[32m1242\u001b[39m     \u001b[38;5;28;01mreturn\u001b[39;00m cast(ResponseT, \u001b[38;5;28;43mself\u001b[39;49m\u001b[43m.\u001b[49m\u001b[43mrequest\u001b[49m\u001b[43m(\u001b[49m\u001b[43mcast_to\u001b[49m\u001b[43m,\u001b[49m\u001b[43m \u001b[49m\u001b[43mopts\u001b[49m\u001b[43m,\u001b[49m\u001b[43m \u001b[49m\u001b[43mstream\u001b[49m\u001b[43m=\u001b[49m\u001b[43mstream\u001b[49m\u001b[43m,\u001b[49m\u001b[43m \u001b[49m\u001b[43mstream_cls\u001b[49m\u001b[43m=\u001b[49m\u001b[43mstream_cls\u001b[49m\u001b[43m)\u001b[49m)\n",
      "\u001b[36mFile \u001b[39m\u001b[32m~\\AppData\\Local\\pypoetry\\Cache\\virtualenvs\\aws-sa-crew-jiuHyfR2-py3.12\\Lib\\site-packages\\openai\\_base_client.py:919\u001b[39m, in \u001b[36mSyncAPIClient.request\u001b[39m\u001b[34m(self, cast_to, options, remaining_retries, stream, stream_cls)\u001b[39m\n\u001b[32m    916\u001b[39m \u001b[38;5;28;01melse\u001b[39;00m:\n\u001b[32m    917\u001b[39m     retries_taken = \u001b[32m0\u001b[39m\n\u001b[32m--> \u001b[39m\u001b[32m919\u001b[39m \u001b[38;5;28;01mreturn\u001b[39;00m \u001b[38;5;28;43mself\u001b[39;49m\u001b[43m.\u001b[49m\u001b[43m_request\u001b[49m\u001b[43m(\u001b[49m\n\u001b[32m    920\u001b[39m \u001b[43m    \u001b[49m\u001b[43mcast_to\u001b[49m\u001b[43m=\u001b[49m\u001b[43mcast_to\u001b[49m\u001b[43m,\u001b[49m\n\u001b[32m    921\u001b[39m \u001b[43m    \u001b[49m\u001b[43moptions\u001b[49m\u001b[43m=\u001b[49m\u001b[43moptions\u001b[49m\u001b[43m,\u001b[49m\n\u001b[32m    922\u001b[39m \u001b[43m    \u001b[49m\u001b[43mstream\u001b[49m\u001b[43m=\u001b[49m\u001b[43mstream\u001b[49m\u001b[43m,\u001b[49m\n\u001b[32m    923\u001b[39m \u001b[43m    \u001b[49m\u001b[43mstream_cls\u001b[49m\u001b[43m=\u001b[49m\u001b[43mstream_cls\u001b[49m\u001b[43m,\u001b[49m\n\u001b[32m    924\u001b[39m \u001b[43m    \u001b[49m\u001b[43mretries_taken\u001b[49m\u001b[43m=\u001b[49m\u001b[43mretries_taken\u001b[49m\u001b[43m,\u001b[49m\n\u001b[32m    925\u001b[39m \u001b[43m\u001b[49m\u001b[43m)\u001b[49m\n",
      "\u001b[36mFile \u001b[39m\u001b[32m~\\AppData\\Local\\pypoetry\\Cache\\virtualenvs\\aws-sa-crew-jiuHyfR2-py3.12\\Lib\\site-packages\\openai\\_base_client.py:1023\u001b[39m, in \u001b[36mSyncAPIClient._request\u001b[39m\u001b[34m(self, cast_to, options, retries_taken, stream, stream_cls)\u001b[39m\n\u001b[32m   1020\u001b[39m         err.response.read()\n\u001b[32m   1022\u001b[39m     log.debug(\u001b[33m\"\u001b[39m\u001b[33mRe-raising status error\u001b[39m\u001b[33m\"\u001b[39m)\n\u001b[32m-> \u001b[39m\u001b[32m1023\u001b[39m     \u001b[38;5;28;01mraise\u001b[39;00m \u001b[38;5;28mself\u001b[39m._make_status_error_from_response(err.response) \u001b[38;5;28;01mfrom\u001b[39;00m\u001b[38;5;250m \u001b[39m\u001b[38;5;28;01mNone\u001b[39;00m\n\u001b[32m   1025\u001b[39m \u001b[38;5;28;01mreturn\u001b[39;00m \u001b[38;5;28mself\u001b[39m._process_response(\n\u001b[32m   1026\u001b[39m     cast_to=cast_to,\n\u001b[32m   1027\u001b[39m     options=options,\n\u001b[32m   (...)\u001b[39m\u001b[32m   1031\u001b[39m     retries_taken=retries_taken,\n\u001b[32m   1032\u001b[39m )\n",
      "\u001b[31mAuthenticationError\u001b[39m: Error code: 401 - {'error': {'message': 'Incorrect API key provided: NA. You can find your API key at https://platform.openai.com/account/api-keys.', 'type': 'invalid_request_error', 'param': None, 'code': 'invalid_api_key'}}"
     ]
    }
   ],
   "source": [
    "crew.kickoff()"
   ]
  }
 ],
 "metadata": {
  "kernelspec": {
   "display_name": "Python 3 (ipykernel)",
   "language": "python",
   "name": "python3"
  },
  "language_info": {
   "codemirror_mode": {
    "name": "ipython",
    "version": 3
   },
   "file_extension": ".py",
   "mimetype": "text/x-python",
   "name": "python",
   "nbconvert_exporter": "python",
   "pygments_lexer": "ipython3",
   "version": "3.12.9"
  }
 },
 "nbformat": 4,
 "nbformat_minor": 4
}
