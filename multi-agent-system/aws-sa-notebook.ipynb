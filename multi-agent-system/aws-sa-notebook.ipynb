{
 "cells": [
  {
   "cell_type": "markdown",
   "metadata": {},
   "source": [
    "## Import All the Stuff"
   ]
  },
  {
   "cell_type": "code",
   "execution_count": 3,
   "metadata": {},
   "outputs": [],
   "source": [
    "import sys\n",
    "from crewai import Agent, Task\n",
    "from crewai_tools import BaseTool\n",
    "import requests\n",
    "from dotenv import load_dotenv\n",
    "from langchain_openai import ChatOpenAI"
   ]
  },
  {
   "cell_type": "markdown",
   "metadata": {},
   "source": [
    "## Hardcode the local LLM (for development purposes, otherwise we'll use the .env)"
   ]
  },
  {
   "cell_type": "code",
   "execution_count": 4,
   "metadata": {},
   "outputs": [],
   "source": [
    "load_dotenv()\n",
    "\n",
    "llm = ChatOpenAI(\n",
    "    model=\"crewai-llama3.3\",\n",
    "    base_url=\"http://localhost:11434/v1\"\n",
    ")"
   ]
  },
  {
   "cell_type": "markdown",
   "metadata": {},
   "source": [
    "### Custom Perplexica Search Tool"
   ]
  },
  {
   "cell_type": "code",
   "execution_count": null,
   "metadata": {},
   "outputs": [],
   "source": [
    "class PerplexicaSearchTool(BaseTool):\n",
    "    name: str = \"Perplexica Search Tool\"\n",
    "    description: str = (\n",
    "        \"Interfaces with the Perplexica Search API to perform AWS documentation searches \"\n",
    "        \"using an AI-powered search engine.\"\n",
    "    )\n",
    "    \n",
    "    def _run(self, query: str) -> dict:\n",
    "        url = \"http://localhost:3001/api/search\"\n",
    "        payload = {\n",
    "            \"chatModel\": {\n",
    "                \"provider\": \"openai\",\n",
    "                \"model\": \"gpt-4o-mini\"\n",
    "            },\n",
    "            \"embeddingModel\": {\n",
    "                \"provider\": \"openai\",\n",
    "                \"model\": \"text-embedding-3-large\"\n",
    "            },\n",
    "            \"optimizationMode\": \"speed\",\n",
    "            \"focusMode\": \"webSearch\",\n",
    "            \"query\": query,\n",
    "            \"history\": [] \n",
    "        }\n",
    "        try:\n",
    "            response = requests.post(url, json=payload)\n",
    "            response.raise_for_status()\n",
    "            return response.json()\n",
    "        except Exception as e:\n",
    "            return {\"error\": str(e)}\n",
    "\n",
    "\n",
    "\n",
    "# Instantiate the custom Perplexica search tool\n",
    "perplexica_search_tool = PerplexicaSearchTool()"
   ]
  },
  {
   "cell_type": "markdown",
   "metadata": {},
   "source": [
    "### Github Repos Search Tool"
   ]
  },
  {
   "cell_type": "code",
   "execution_count": null,
   "metadata": {},
   "outputs": [],
   "source": [
    "from crewai_tools import GithubSearchTool\n",
    "# Instantiate the Github search tool\n",
    "github_search_tool = GithubSearchTool()"
   ]
  },
  {
   "cell_type": "markdown",
   "metadata": {},
   "source": [
    "# ---------------------- Agents Definition ----------------------\n"
   ]
  },
  {
   "cell_type": "markdown",
   "metadata": {},
   "source": [
    "### 1. Requirements Gathering Agent"
   ]
  },
  {
   "cell_type": "code",
   "execution_count": 7,
   "metadata": {},
   "outputs": [],
   "source": [
    "requirements_agent = Agent(\n",
    "    role=\"Requirement Gathering Agent\",\n",
    "    goal=\"Gather and structure user requirements, ensuring all essential metadata fields are captured in a JSON format.\",\n",
    "    backstory=(\n",
    "\"You are an expert AWS consultant skilled in structured requirement gathering. \"\n",
    "              \"Your job is to conduct detailed interviews with users to extract clear and actionable requirements. \"\n",
    "              \"You categorize user inputs across key attributes such as cost profile, scalability, security, \"\n",
    "              \"performance, and compliance needs. \"\n",
    "              \"Your structured output enables other agents to accurately retrieve AWS documentation and generate solutions. \"\n",
    "              \"You always clarify ambiguous responses and ensure completeness before finalizing requirements.\"\n",
    "),\n",
    "    allow_delegation=False,\n",
    "    verbose=True,\n",
    "    llm=llm,\n",
    ")\n"
   ]
  },
  {
   "cell_type": "markdown",
   "metadata": {},
   "source": [
    "### 2. Knowledge Retrieval Agent"
   ]
  },
  {
   "cell_type": "code",
   "execution_count": null,
   "metadata": {},
   "outputs": [],
   "source": [
    "knowledge_agent = Agent(\n",
    "    role=\"Knowledge Agent\",\n",
    "    goal=\"Retrieve and process AWS documentation to provide up-to-date and reliable information.\",\n",
    "    backstory=(\n",
    "\"You are an AI-powered AWS documentation specialist and a prompt engineering expert. \" \n",
    "\"Your prompt engineering skills enable you to craft optimal queries to pass to the LLM-based internet search tool, from structured user requirements, \" \n",
    "\"ensuring that your search results are precise, comprehensive, and contextually relevant.\"\n",
    "\"Your expertise lies in retrieving, analyzing, and summarizing AWS documentation, guides, decision guides, implementation guides, whitepapers, case studies, best practices, tutorials, and reference architectures and use cases to generate a base solution tailored to the user’s needs\"\n",
    "\n",
    "),\n",
    "    allow_delegation=False,\n",
    "    verbose=True,\n",
    "    llm=llm,\n",
    ")\n"
   ]
  },
  {
   "cell_type": "markdown",
   "metadata": {},
   "source": [
    "### 3. Implementation Examples Agent"
   ]
  },
  {
   "cell_type": "code",
   "execution_count": null,
   "metadata": {},
   "outputs": [],
   "source": [
    "implementation_agent = Agent( \n",
    "    role=\"Implementation Example Agent\", \n",
    "    goal=\"Search real-world AWS implementation examples on GitHub to refine and support the generated architecture solution.\", \n",
    "    backstory=(\n",
    "    \"You specialize in finding practical AWS implementation examples by searching GitHub repositories. \" \n",
    "    \"Your task is to provide real-world code examples and reference implementations that align with the proposed solution. \" \n",
    "    \"This helps validate the feasibility of the recommendations and offers tangible examples for further refinement.\"\n",
    "    ), \n",
    "    allow_delegation=True, \n",
    "    verbose=True, \n",
    "    llm=llm\n",
    ")\n"
   ]
  },
  {
   "cell_type": "markdown",
   "metadata": {},
   "source": [
    "### 4. QA and Validation Agent\n"
   ]
  },
  {
   "cell_type": "code",
   "execution_count": null,
   "metadata": {},
   "outputs": [],
   "source": [
    "qa_validation_agent = Agent( \n",
    "    role=\"QA and Validation Agent\", \n",
    "    goal=\"Ensure the AWS architecture recommendation is comprehensive, accurate, and aligned with AWS best practices, including service details, quotas, and integration requirements.\", \n",
    "    backstory=(\n",
    "    \"You are a meticulous QA specialist with deep expertise in AWS documentation and best practices. \" \n",
    "    \"Your role is to review the architecture recommendation generated by the Solution Architect Agent. \" \n",
    "    \"You must verify that the solution addresses all aspects of the user requirements (cost, scalability, security, performance, and compliance) \" \n",
    "    \"and is fully supported by up-to-date AWS service documentation. \" \n",
    "    \"Ensure that every recommendation is backed by concrete references, that all assumptions are clearly stated, \" \n",
    "    \"and that there are no gaps in the technical details (such as quotas or integration specifics). \" \n",
    "    \"If any part of the solution is incomplete or contradictory, delegate the refinement back to the appropriate agent.\" \n",
    "    ), \n",
    "    allow_delegation=True, \n",
    "    verbose=True, \n",
    "    llm=llm,\n",
    ")\n"
   ]
  },
  {
   "cell_type": "markdown",
   "metadata": {},
   "source": [
    "### 5. Solution Architect Agent"
   ]
  },
  {
   "cell_type": "code",
   "execution_count": null,
   "metadata": {},
   "outputs": [],
   "source": [
    "solution_agent = Agent(\n",
    "    role=\"Solution Agent\",\n",
    "    goal=\"Generate architecturally sound AWS solutions tailored to user needs.\",\n",
    "    backstory=(\n",
    "\"You are a highly experienced AWS Solutions Architect, skilled in designing scalable, cost-effective, and secure cloud architectures. \"\n",
    "              \"Using structured user requirements and retrieved AWS documentation, you craft tailored AWS architecture recommendations \"\n",
    "              \"that align with best practices, compliance, and performance needs.\"\n",
    "    ),\n",
    "    allow_delegation=False,\n",
    "    verbose=True,\n",
    "    llm=llm\n",
    ")\n"
   ]
  },
  {
   "cell_type": "markdown",
   "metadata": {},
   "source": [
    "#  ---------------------- Tasks Definition ----------------------\n"
   ]
  },
  {
   "cell_type": "markdown",
   "metadata": {},
   "source": [
    "### Task 1: Requirements Gathering"
   ]
  },
  {
   "cell_type": "code",
   "execution_count": null,
   "metadata": {},
   "outputs": [],
   "source": [
    "task_requirements = Task(\n",
    "    description=(\n",
    "        \"Conduct structured interviews with the user to gather key requirements for the AWS solution. \"\n",
    "        \"Ask targeted questions about cost, scalability, ease of implementation, security, and other relevant factors. \"\n",
    "        \"Ensure responses align with predefined metadata categories. \"\n",
    "        \"Clarify ambiguous answers and document the final requirements in JSON format with the following structure:\\n\\n\"\n",
    "\n",
    "        \"```json\\n\"\n",
    "        \"{\"\n",
    "        '  \"cost_profile\": \"High Cost | Medium Cost | Low Cost | Cost-Optimized\",\\n'\n",
    "        '  \"scalability\": \"High (millions of users) | Medium | Low (small-scale)\",\\n'\n",
    "        '  \"implementation\": {\\n'\n",
    "        '      \"ease\": \"Easy | Moderate | Difficult\",\\n'\n",
    "        '      \"integration\": \"Easy | Moderate | Difficult\",\\n'\n",
    "        '      \"expertise\": \"Beginner | Intermediate | Advanced\"\\n'\n",
    "        '  },\\n'\n",
    "        '  \"use_case\": [\"Video Streaming\", \"Data Analytics\", \"IoT\", \"Web Applications\", \"Machine Learning\", \"Databases\", \"Storage\", \"Networking\", \"Security\", \"DevOps\", \"Hybrid Cloud\", \"Serverless\"],\\n'\n",
    "        '  \"security_tier\": \"Basic | Enterprise\",\\n'\n",
    "        '  \"performance\": \"High Performance | Moderate | Low Performance\",\\n'\n",
    "        '  \"availability\": \"High Availability (multi-region) | Moderate | Low Availability\",\\n'\n",
    "        '  \"compliance\": [\"GDPR\", \"HIPAA\", \"PCI-DSS\", \"None\"],\\n'\n",
    "        '  \"implementation_time\": \"Short (days) | Medium (weeks) | Long (months+)\"\\n'\n",
    "        \"}\\n\"\n",
    "        \"```\\n\\n\"\n",
    "\n",
    "        \"Ensure the user understands and confirms their selections before finalizing the output. \"\n",
    "        \"This JSON will serve as the foundation for knowledge retrieval and solution generation.\"\n",
    "    ),\n",
    "    expected_output=\"A structured JSON object with categorized user requirements.\",\n",
    "    agent=requirements_agent\n",
    ")"
   ]
  },
  {
   "cell_type": "markdown",
   "metadata": {},
   "source": [
    "### Task 2: Knowledge Retrieval\n"
   ]
  },
  {
   "cell_type": "code",
   "execution_count": null,
   "metadata": {},
   "outputs": [],
   "source": [
    "task_knowledge_retrieval = Task(\n",
    "    description=\n",
    "\"Retrieve relevant AWS documentation, guides, decision guides, implementation guides, whitepapers, case studies, best practices, tutorials, and reference architectures and use cases to generate a base solution tailored to the user’s needs based on user requirements. \"\n",
    "\"Use internet search via the PerplexicaSearchTool to ensure high relevance. \"\n",
    "\t\"Leverage your prompt engineering expertise to craft optimal queries from the structured requirements. \"\n",
    "    expected_output=\n",
    "\"A distilled summary of AWS documentation, guides, whitepapers, use cases, and tutorials that are directly relevant to the user's needs, \" \n",
    "\"providing a comprehensive base response for solution design.\"\n",
    "    agent=knowledge_agent\n",
    "    tools=[perplexica_search_tool]\n",
    ")\n"
   ]
  },
  {
   "cell_type": "markdown",
   "metadata": {},
   "source": [
    "### Task 3: Real-World Implementations Search \n"
   ]
  },
  {
   "cell_type": "code",
   "execution_count": null,
   "metadata": {},
   "outputs": [],
   "source": [
    "task_implementation_search = Task( \n",
    "    description=\n",
    "    “Refine the base response (the distilled summary) by searching GitHub repositories for real-world AWS implementation examples relevant to the user’s requirements”\n",
    "    “Integrate these real-world examples to enhance and validate the AWS documentation summary, ensuring the solution is grounded in proven practices.” \n",
    "    \"Summarize findings with links and code references.\", \n",
    "    expected_output=\"A structured summary of real-world AWS implementations, including concrete examples and references.\", \n",
    "    agent=implementation_agent,\n",
    "    tools=[github_search_tool],\n",
    ")\n"
   ]
  },
  {
   "cell_type": "markdown",
   "metadata": {},
   "source": [
    "### Task 4: QA and Validation"
   ]
  },
  {
   "cell_type": "code",
   "execution_count": null,
   "metadata": {},
   "outputs": [],
   "source": [
    "task_validation = Task( \n",
    "    description=\n",
    "    \"Review the AWS architecture recommendation generated by the Solution Architect Agent. \" \n",
    "    \"Ensure that all user requirements are addressed: confirm that cost, scalability, security, performance, and compliance factors are properly covered. \" \n",
    "    \"Search AWS service documentation using the PerplexicaSearchTool to verify details such as service quotas, integration requirements, and best practices. \" \n",
    "    \"Check that every recommendation is supported with references and that assumptions are explicitly noted. \" \n",
    "    \"Provide a detailed validation report that outlines any discrepancies or areas for improvement, and, if necessary, delegate revisions back to the Solution Architect Agent.\", \n",
    "    expected_output= \n",
    "    \"A detailed validation report that includes:\\n\" \n",
    "    \"- Confirmation that all user requirements are met by the proposed architecture.\\n\" \n",
    "    \"- References and supporting evidence from AWS documentation for each recommendation.\\n\" \n",
    "    \"- Identification of any discrepancies, missing details, or assumptions that need clarification.\\n\" \n",
    "    \"- Actionable recommendations for refinements, if any issues are detected.\",\n",
    "\n",
    "    agent=qa_validation_agent, \n",
    "    tools=[perplexica_search_tool], \n",
    ")\n"
   ]
  },
  {
   "cell_type": "markdown",
   "metadata": {},
   "source": [
    "### Task 5: Solution Generation\n"
   ]
  },
  {
   "cell_type": "code",
   "execution_count": null,
   "metadata": {},
   "outputs": [],
   "source": [
    "task_solution_generation = Task(\n",
    "    description=\"Generate a detailed AWS architecture recommendation based on user requirements and retrieved AWS documentation. \"\n",
    "                \"Ensure the solution is optimized for cost, scalability, security, and compliance.\",\n",
    "    expected_output=\"A structured AWS architecture recommendation document.\",\n",
    "    agent=solution_agent\n",
    ")"
   ]
  },
  {
   "cell_type": "markdown",
   "metadata": {},
   "source": [
    "# -------------------------- Crew Assembly --------------------------\n"
   ]
  },
  {
   "cell_type": "code",
   "execution_count": null,
   "metadata": {},
   "outputs": [],
   "source": [
    "crew = Crew(\n",
    "    agents=[ requirements_agent, knowledge_agent, implementation_agent, qa_validation_agent, solution_agent, orchestrator_agent ], \n",
    "    tasks=[ task_requirements, task_knowledge_retrieval, task_implementation_search, task_validation, task_solution_generation, task_orchestration ],\n",
    "    process=Process.sequential,  # Ensures logical step-by-step execution\n",
    "    verbose=2  # Set verbosity level for detailed logs during execution\n",
    "    memory=True\n",
    ")\n"
   ]
  },
  {
   "cell_type": "markdown",
   "metadata": {},
   "source": [
    "# -------------------------- Run Crew --------------------------\n"
   ]
  },
  {
   "cell_type": "code",
   "execution_count": null,
   "metadata": {},
   "outputs": [],
   "source": [
    "crew.kickoff()"
   ]
  }
 ],
 "metadata": {
  "kernelspec": {
   "display_name": "Python 3 (ipykernel)",
   "language": "python",
   "name": "python3"
  },
  "language_info": {
   "codemirror_mode": {
    "name": "ipython",
    "version": 3
   },
   "file_extension": ".py",
   "mimetype": "text/x-python",
   "name": "python",
   "nbconvert_exporter": "python",
   "pygments_lexer": "ipython3",
   "version": "3.12.9"
  }
 },
 "nbformat": 4,
 "nbformat_minor": 2
}
